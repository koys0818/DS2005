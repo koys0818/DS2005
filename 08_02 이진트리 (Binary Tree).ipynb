{
 "cells": [
  {
   "cell_type": "markdown",
   "metadata": {},
   "source": [
    "# 이진트리 (Binary Tree)\n",
    "- 노드가 최대 `두개의 자식노드 (왼쪽 left, 오른 right)` 를 갖춘 tree 자료구조\n",
    "- 루트 노드를 중심으로 두 개의 서브트리로 나뉘어진다. 나뉘어진 두 서브 트리도 모두 이진 트리이어야 한다 (재귀적인 정의)\n",
    "\n",
    "<img src=\"https://upload.wikimedia.org/wikipedia/commons/thumb/f/f7/Binary_tree.svg/1024px-Binary_tree.svg.png\" style=\"width:350px;height:auto;float:left;\">\n",
    "\n",
    "---"
   ]
  },
  {
   "cell_type": "markdown",
   "metadata": {},
   "source": [
    "### Full binary tree (포화 이진 트리)\n",
    "    - 단말 노드가 아닌 모든 노드가 2개의 자식을 가진 트리\n",
    "\n",
    "\n",
    "### Complete Binary Tree (완전 이진 트리)\n",
    "    - 마지막 레벨을 제외한 모든 레벨이 완전히 채워져 있고, 마지막 레벨의 모든 말단 노드는 왼쪽에 있다.\n",
    "    - root 부터 시작하여 level 별로 left→ right 순으로 노드가 채워짐\n",
    "    - 책에 따라서 Full Binary Tree, Perfect Binary Tree 는 용어가 섞이기도 하나.   Complete Binary Tree 는 명확하다!\n",
    "    \n",
    "### Perfect Binary Tree (완전 이진 트리)\n",
    "    - 모든 내부노드(internal node) 가 두개의 자식 노드를 가지며, 모든 말단 노드가 같은 깊이, 또를 레벨을 가진다.\n",
    "\n",
    "   \n",
    "    \n",
    "<img src=\"https://t1.daumcdn.net/cfile/tistory/216DF84957B87E6125\" style=\"width:550px;height:auto;float:left\"/>\n",
    "\n",
    "\n"
   ]
  },
  {
   "cell_type": "markdown",
   "metadata": {},
   "source": [
    "---\n",
    "# Traversing\n",
    "\n",
    "- 트리의 모든 노드를 다 방문(visit) 하려면?  \n",
    "- 어떤 순서로 어떻게 순회(traverse)해야 하는가?  이를 재귀적으로 정의 가능한가?\n",
    "\n",
    "\n",
    "## Traverse 종류\n",
    "1. Preorder Traverse (전위 순회) : C → L → R\n",
    "    - center 방문 → left 방문 → right 방문\n",
    "    <img src=\"https://mblogthumb-phinf.pstatic.net/MjAxNzExMjhfNTUg/MDAxNTExODM1ODY2NjQz.elhTV7WqJAD8Xsh4XfF3WLPJxqb4z4X3WXEvz6-fLrAg.al6zlo4Wt5GkRdB4WCws7r26MjuxUeGxRhhLinYdoq0g.JPEG.pgh7092/%EC%A0%84%EC%9C%84%EC%88%9C%ED%9A%8C%28Preorder_Traversal%29.jpg?type=w800\" style=\"width:450px; height:auto;\">\n",
    "    \n",
    "    \n",
    "1. Inorder Traverse (중위 순회) : L → C → R\n",
    "    - left 방문 → center 방문 → right 방문\n",
    "    <img src=\"https://mblogthumb-phinf.pstatic.net/MjAxNzExMjhfMjEz/MDAxNTExODM1ODgyMjgz.DgD_3OobM7EZO4u08U_llYcJHfUmVvM-g4ZP2vrygFIg.reBH2NgxmudH1nuxqZdJZoyPJ6Y8AuQcQ_XzFJS-sJ8g.JPEG.pgh7092/%EC%A4%91%EC%9C%84%EC%88%9C%ED%9A%8C%28Inorder_Traversal%29.jpg?type=w800\" style=\"width:450px; height:auto;\">\n",
    "    \n",
    "    \n",
    "1. Postorder Traverse (후위 순회) : L → R → C\n",
    "    - left 방문 → right 방문 → center 방문 \n",
    "        <img src=\"https://mblogthumb-phinf.pstatic.net/MjAxNzExMjhfMTA1/MDAxNTExODM1ODk5MzU5.03-_swypckt9SijNSjwMvOA6MbxEEUyAmqBCKJVbGiIg.dgvNfWUMYV-TeUvXnfnjy0xzOtX7RSiH93ic3UKY3ZIg.JPEG.pgh7092/%ED%9B%84%EC%9C%84%EC%88%9C%ED%9A%8C%28Postorder_Traversal%29.jpg?type=w800\" style=\"width:450px; height:auto;\">"
   ]
  },
  {
   "cell_type": "markdown",
   "metadata": {},
   "source": [
    "![travserse](https://t1.daumcdn.net/cfile/tistory/9954CB395BADB47810)"
   ]
  },
  {
   "cell_type": "markdown",
   "metadata": {},
   "source": [
    "## Breath-first Search / Level Order Traversing\n",
    "![bfs](https://upload.wikimedia.org/wikipedia/commons/thumb/d/d1/Sorted_binary_tree_breadth-first_traversal.svg/220px-Sorted_binary_tree_breadth-first_traversal.svg.png)"
   ]
  },
  {
   "cell_type": "code",
   "execution_count": null,
   "metadata": {},
   "outputs": [],
   "source": []
  },
  {
   "cell_type": "code",
   "execution_count": null,
   "metadata": {},
   "outputs": [],
   "source": []
  },
  {
   "cell_type": "code",
   "execution_count": null,
   "metadata": {},
   "outputs": [],
   "source": []
  },
  {
   "cell_type": "code",
   "execution_count": null,
   "metadata": {},
   "outputs": [],
   "source": []
  },
  {
   "cell_type": "code",
   "execution_count": null,
   "metadata": {},
   "outputs": [],
   "source": []
  },
  {
   "cell_type": "code",
   "execution_count": null,
   "metadata": {},
   "outputs": [],
   "source": []
  },
  {
   "cell_type": "code",
   "execution_count": null,
   "metadata": {},
   "outputs": [],
   "source": []
  },
  {
   "cell_type": "code",
   "execution_count": null,
   "metadata": {},
   "outputs": [],
   "source": []
  },
  {
   "cell_type": "code",
   "execution_count": null,
   "metadata": {},
   "outputs": [],
   "source": []
  },
  {
   "cell_type": "code",
   "execution_count": null,
   "metadata": {},
   "outputs": [],
   "source": []
  },
  {
   "cell_type": "code",
   "execution_count": null,
   "metadata": {},
   "outputs": [],
   "source": []
  },
  {
   "cell_type": "code",
   "execution_count": null,
   "metadata": {},
   "outputs": [],
   "source": []
  },
  {
   "cell_type": "code",
   "execution_count": null,
   "metadata": {},
   "outputs": [],
   "source": []
  },
  {
   "cell_type": "code",
   "execution_count": null,
   "metadata": {},
   "outputs": [],
   "source": []
  },
  {
   "cell_type": "code",
   "execution_count": null,
   "metadata": {},
   "outputs": [],
   "source": []
  },
  {
   "cell_type": "code",
   "execution_count": null,
   "metadata": {},
   "outputs": [],
   "source": []
  },
  {
   "cell_type": "code",
   "execution_count": null,
   "metadata": {},
   "outputs": [],
   "source": []
  },
  {
   "cell_type": "code",
   "execution_count": null,
   "metadata": {},
   "outputs": [],
   "source": []
  },
  {
   "cell_type": "code",
   "execution_count": null,
   "metadata": {},
   "outputs": [],
   "source": []
  },
  {
   "cell_type": "code",
   "execution_count": null,
   "metadata": {},
   "outputs": [],
   "source": []
  }
 ],
 "metadata": {
  "kernelspec": {
   "display_name": "Python 3",
   "language": "python",
   "name": "python3"
  },
  "language_info": {
   "codemirror_mode": {
    "name": "ipython",
    "version": 3
   },
   "file_extension": ".py",
   "mimetype": "text/x-python",
   "name": "python",
   "nbconvert_exporter": "python",
   "pygments_lexer": "ipython3",
   "version": "3.7.4"
  }
 },
 "nbformat": 4,
 "nbformat_minor": 2
}
