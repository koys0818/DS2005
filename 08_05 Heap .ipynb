{
 "cells": [
  {
   "cell_type": "markdown",
   "metadata": {},
   "source": [
    "# Heap (힙)"
   ]
  },
  {
   "cell_type": "markdown",
   "metadata": {},
   "source": [
    "- `완전이진트리 (Complete Binary Tree) 를 기반`으로 한 자료구조\n",
    "\n",
    "- `최댓값과 최솟값`을 찾아내는 연산을 빠르게 하기 위해 고안\n",
    "\n",
    "- 힙은 다음의 조건을 만족한다\n",
    "    - A 가 B 의 부모-자식 관계이면, `두 노드의 키(key)값에는 대소 관계` 성립된다.\n",
    "    - (key, priority(우선순위), value  .)"
   ]
  },
  {
   "cell_type": "markdown",
   "metadata": {},
   "source": [
    "# Max Heap / Min Heap\n",
    "- 최대힙(Max Heap) : 부모노드의 키값이자식노드의 키값보다 항상 큰 힙, root는 최댓값\n",
    "- 최소힙(Min Heap) : 부모노드의 키값이 자식노드의 키값보다 항상 작은 힙. root는 최솟값\n",
    "- 형제 사이(혹은 level간)에는 대소 관계가 정해지지 않는다\n",
    "\n",
    "\n",
    "![heap](https://k.kakaocdn.net/dn/bcEIgg/btqwQlLYiDe/NDqjJXubdjz6G0FsKKv2D0/img.png)"
   ]
  },
  {
   "cell_type": "markdown",
   "metadata": {},
   "source": [
    "---\n",
    "# 배열(list)로 구현하는 완전 이진트리\n",
    "![배열구현](https://t1.daumcdn.net/cfile/tistory/254F2C4A5672BE2208)\n",
    "\n",
    "# index & 공식\n",
    "One based index heap :  루트 노드 index 를 0 이 아닌 1로 지정하면 좀더 편하게 다룰수 있다.\n",
    "- parent index = child index / 2\n",
    "- left child index = parent index * 2\n",
    "- right child index = parent index * 2 + 1\n"
   ]
  },
  {
   "cell_type": "markdown",
   "metadata": {},
   "source": [
    "---\n",
    "# Heap 의 insert 동작\n",
    "예] max-heap 의 경우\n",
    "![insert](https://gmlwjd9405.github.io/images/data-structure-heap/maxheap-insertion.png)"
   ]
  },
  {
   "cell_type": "markdown",
   "metadata": {},
   "source": [
    "---\n",
    "# Heap 의 삭제\n",
    "![삭제](https://gmlwjd9405.github.io/images/data-structure-heap/maxheap-delete.png)"
   ]
  },
  {
   "cell_type": "code",
   "execution_count": null,
   "metadata": {},
   "outputs": [],
   "source": []
  },
  {
   "cell_type": "code",
   "execution_count": null,
   "metadata": {},
   "outputs": [],
   "source": []
  },
  {
   "cell_type": "code",
   "execution_count": null,
   "metadata": {},
   "outputs": [],
   "source": []
  },
  {
   "cell_type": "code",
   "execution_count": null,
   "metadata": {},
   "outputs": [],
   "source": []
  },
  {
   "cell_type": "code",
   "execution_count": null,
   "metadata": {},
   "outputs": [],
   "source": []
  },
  {
   "cell_type": "code",
   "execution_count": null,
   "metadata": {},
   "outputs": [],
   "source": []
  }
 ],
 "metadata": {
  "kernelspec": {
   "display_name": "Python 3",
   "language": "python",
   "name": "python3"
  },
  "language_info": {
   "codemirror_mode": {
    "name": "ipython",
    "version": 3
   },
   "file_extension": ".py",
   "mimetype": "text/x-python",
   "name": "python",
   "nbconvert_exporter": "python",
   "pygments_lexer": "ipython3",
   "version": "3.7.4"
  }
 },
 "nbformat": 4,
 "nbformat_minor": 2
}
