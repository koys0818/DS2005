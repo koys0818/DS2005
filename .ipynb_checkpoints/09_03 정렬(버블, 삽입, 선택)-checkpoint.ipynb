{
 "cells": [
  {
   "cell_type": "markdown",
   "metadata": {},
   "source": [
    "# 기본적인 정렬 알고리즘\n",
    "버블 정렬, 삽입정렬, 선택정렬"
   ]
  },
  {
   "cell_type": "markdown",
   "metadata": {},
   "source": [
    "---\n",
    "# Bubble Sort (버블 정렬)\n",
    "\n",
    "주어진 N 개의 배열 에 대해에\n",
    "1. 인접한 두개의 데이터 비교 (a, b),\n",
    "1. a,b 크기가 반대이면 ‘값 교환’ (오름차순의 경우,  a > b 라면 교환),\n",
    "1. 배열끝까지 다다를때까지 1, 과 2, 반복\n",
    "1. (마지막 비교는 N-2  와 N-1 을 비교하게 됨),\n",
    "1. 위 3. 이 끝나면 맨 끝의 데이터는 가장 큰 값으로 될것이다.\n",
    "1. 이제 N 을 1감소하고  1. 부터 반복한다.  N = 1 이 될때까지\n",
    "\n",
    "![bubble](https://bournetocode.com/projects/GCSE_Computing_Fundamentals/pages/img/bubble_sort_pass.png)"
   ]
  },
  {
   "cell_type": "code",
   "execution_count": 1,
   "metadata": {},
   "outputs": [],
   "source": [
    "\"\"\"\n",
    "오름차순 - 버블 정렬\n",
    "[3, 2, 7, 5, 6] (시작)\n",
    "[2, 3, 5, 6, 7]  cycle1 종료후 (4번 비교) \n",
    "[2, 3, 5, 6, 7]  cycle2 종료후 (3번 비교) \n",
    "[2, 3, 5, 6, 7]  cycle3 종료후 (2번 비교)\n",
    "[2, 3, 5, 6, 7]  cycle4 종료후 (1번 비교)\n",
    "\n",
    "\"\"\"\n",
    "None"
   ]
  },
  {
   "cell_type": "code",
   "execution_count": null,
   "metadata": {},
   "outputs": [],
   "source": [
    "\"\"\"\n",
    "[11, 3, 28, 43, 9, 4]   (시작)\n",
    "[3, 11, 28, 9, 4, 43]   cycle 1 후\n",
    "[3, 11, 9, 4, 28, 43]   cycle 2 후\n",
    "[3, 9, 4, 11, 28, 43]   cycle 3 후\n",
    "[3, 4, 9, 11, 28, 43]   cycle 4 후\n",
    "[3, 4, 9, 11, 28, 43]   cycle 5 후\n",
    "\"\"\""
   ]
  },
  {
   "cell_type": "code",
   "execution_count": 5,
   "metadata": {},
   "outputs": [
    {
     "data": {
      "text/plain": [
       "[3, 4, 9, 11, 28, 43]"
      ]
     },
     "execution_count": 5,
     "metadata": {},
     "output_type": "execute_result"
    }
   ],
   "source": [
    "# 정렬이 안된 데이터(seq)를 받아서\n",
    "# 정렬시킨 결과를 리턴\n",
    "def bubble_sort(seq):\n",
    "    length = len(seq) - 1\n",
    "    for num in range(length, 0, -1):  # cycle 횟수\n",
    "        for i in range(num):   # 비교 횟수\n",
    "            if seq[i] > seq[i + 1]:   # 왼쪽이 오른쪽보다 크면, 자리바꿈\n",
    "                seq[i], seq[i + 1] = seq[i + 1], seq[i]\n",
    "        #print(seq) # 중간과정 출력\n",
    "    return seq\n",
    "\n",
    "# 테스트\n",
    "seq = [11, 3, 28, 43, 9, 4]\n",
    "bubble_sort(seq)"
   ]
  },
  {
   "cell_type": "markdown",
   "metadata": {},
   "source": [
    "## 성능 - 버블 정렬"
   ]
  },
  {
   "cell_type": "code",
   "execution_count": 6,
   "metadata": {},
   "outputs": [],
   "source": [
    "import time\n",
    "from datetime import timedelta\n",
    "import random\n",
    "import copy   # deepcopy "
   ]
  },
  {
   "cell_type": "markdown",
   "metadata": {},
   "source": [
    "## 샘플 데이터 작성 도우미 함수들"
   ]
  },
  {
   "cell_type": "code",
   "execution_count": 41,
   "metadata": {},
   "outputs": [],
   "source": [
    "# 랜덤으로 리스트 작성\n",
    "def gen_rand(num):\n",
    "    data = [i for i in range(num)]\n",
    "    random.shuffle(data)\n",
    "    return data\n",
    "\n",
    "# 오름차순 리스트 작성\n",
    "def gen_asc(num):\n",
    "    return [i for i in range(num)]\n",
    "\n",
    "# 내림차순 리스트 작성\n",
    "def gen_desc(num):\n",
    "    return [i for i in range(num, 0, -1)]\n",
    "\n",
    "# sort 함수와 data 정렬 성능 체크\n",
    "def test_sort(sort, data, title):\n",
    "    start_time = time.time()\n",
    "    result = sort(data)\n",
    "    end_time = time.time()\n",
    "    elapsed_time = end_time - start_time\n",
    "    print('%s: size=%d 경과시간 %s' % (title, len(data), str(timedelta(seconds=elapsed_time))))\n",
    "    return result\n",
    "    \n",
    "# 특정 사이트의 배열 x times 번 sort 수행\n",
    "def test_ntimes_sort(sort, size, times, title):\n",
    "    \n",
    "    genData = gen_rand(size)  # 정렬을 수행할 원본데이터\n",
    "    for i in range(times):\n",
    "        data = copy.deepcopy(genData)  # 사본을 만들어 정렬 수행\n",
    "        test_sort(sort, data, (\"%d차:\" % (i + 1)) + title)\n",
    "    "
   ]
  },
  {
   "cell_type": "code",
   "execution_count": 43,
   "metadata": {},
   "outputs": [
    {
     "name": "stdout",
     "output_type": "stream",
     "text": [
      "1차:버블: size=100 경과시간 0:00:00\n",
      "2차:버블: size=100 경과시간 0:00:00\n",
      "3차:버블: size=100 경과시간 0:00:00.000992\n",
      "4차:버블: size=100 경과시간 0:00:00\n",
      "5차:버블: size=100 경과시간 0:00:00.000997\n"
     ]
    }
   ],
   "source": [
    "test_ntimes_sort(bubble_sort, 100, 5, '버블')"
   ]
  },
  {
   "cell_type": "code",
   "execution_count": 45,
   "metadata": {},
   "outputs": [
    {
     "name": "stdout",
     "output_type": "stream",
     "text": [
      "1차:버블1000: size=1000 경과시간 0:00:00.063692\n",
      "2차:버블1000: size=1000 경과시간 0:00:00.052793\n",
      "3차:버블1000: size=1000 경과시간 0:00:00.062517\n",
      "4차:버블1000: size=1000 경과시간 0:00:00.062485\n",
      "5차:버블1000: size=1000 경과시간 0:00:00.046866\n",
      "\n",
      "1차:버블2000: size=2000 경과시간 0:00:00.257797\n",
      "2차:버블2000: size=2000 경과시간 0:00:00.235291\n",
      "3차:버블2000: size=2000 경과시간 0:00:00.251482\n",
      "4차:버블2000: size=2000 경과시간 0:00:00.247654\n",
      "5차:버블2000: size=2000 경과시간 0:00:00.256866\n",
      "\n",
      "1차:버블4000: size=4000 경과시간 0:00:00.967383\n",
      "2차:버블4000: size=4000 경과시간 0:00:00.985287\n",
      "3차:버블4000: size=4000 경과시간 0:00:00.960797\n",
      "4차:버블4000: size=4000 경과시간 0:00:00.968468\n",
      "5차:버블4000: size=4000 경과시간 0:00:00.978874\n",
      "\n",
      "1차:버블8000: size=8000 경과시간 0:00:03.922754\n",
      "2차:버블8000: size=8000 경과시간 0:00:03.971236\n",
      "3차:버블8000: size=8000 경과시간 0:00:03.898051\n",
      "4차:버블8000: size=8000 경과시간 0:00:03.882178\n",
      "5차:버블8000: size=8000 경과시간 0:00:03.898492\n",
      "\n"
     ]
    }
   ],
   "source": [
    "num = 1000\n",
    "for i in range(4):\n",
    "    test_ntimes_sort(bubble_sort, num, 5, '버블%d' % (num))\n",
    "    print()\n",
    "    num *= 2\n",
    "\n",
    "print('종료')\n"
   ]
  },
  {
   "cell_type": "code",
   "execution_count": null,
   "metadata": {},
   "outputs": [],
   "source": []
  },
  {
   "cell_type": "code",
   "execution_count": null,
   "metadata": {},
   "outputs": [],
   "source": []
  },
  {
   "cell_type": "code",
   "execution_count": null,
   "metadata": {},
   "outputs": [],
   "source": []
  },
  {
   "cell_type": "code",
   "execution_count": null,
   "metadata": {},
   "outputs": [],
   "source": []
  },
  {
   "cell_type": "code",
   "execution_count": null,
   "metadata": {},
   "outputs": [],
   "source": []
  },
  {
   "cell_type": "code",
   "execution_count": null,
   "metadata": {},
   "outputs": [],
   "source": []
  }
 ],
 "metadata": {
  "kernelspec": {
   "display_name": "Python 3",
   "language": "python",
   "name": "python3"
  },
  "language_info": {
   "codemirror_mode": {
    "name": "ipython",
    "version": 3
   },
   "file_extension": ".py",
   "mimetype": "text/x-python",
   "name": "python",
   "nbconvert_exporter": "python",
   "pygments_lexer": "ipython3",
   "version": "3.7.4"
  }
 },
 "nbformat": 4,
 "nbformat_minor": 2
}
