{
 "cells": [
  {
   "cell_type": "markdown",
   "metadata": {},
   "source": [
    "# Heap 구현"
   ]
  },
  {
   "cell_type": "code",
   "execution_count": 2,
   "metadata": {},
   "outputs": [],
   "source": [
    "class Heap(object):\n",
    "    def __init__(self, comp):\n",
    "        self.arr = [None] # [0] 번째는 None 으로 채워놓고 시작\n",
    "        self.size = 0      # 노드(데이터)의 개수\n",
    "        # 우선순위 비교함수\n",
    "        self.comp = comp  # comp(d1, d2) 함수: d1 이 크면 양수, d2가 크면 음수를 리턴 \n",
    "    \n",
    "    # 부모노드의 인덱스\n",
    "    def get_parent_idx(self, idx):\n",
    "        return idx // 2\n",
    "    \n",
    "    # left 자식 노드의 인덱스\n",
    "    def get_left_idx(self, idx):\n",
    "        return idx * 2\n",
    "    \n",
    "    # right 자식 노드의 인덱스\n",
    "    def get_right_idx(self, idx):\n",
    "        return idx * 2 + 1\n",
    "    \n",
    "    # 두 자식 중에서 우선순위가 높은 자식의 인덱스 리턴\n",
    "    def getHighPriority(self, idx):\n",
    "        left_idx = self.get_left_idx(idx)\n",
    "        right_idx = self.get_right_idx(idx)\n",
    "        \n",
    "        # 자식 노드 없다면 0 리턴\n",
    "        if left_idx > self.size: return 0\n",
    "        \n",
    "        # 자식 노드가 하나 밖에 없다면.\n",
    "        if left_idx == self.size: return left_idx\n",
    "        \n",
    "        # 두개의 자식 --> 비교\n",
    "        # 우선순위 함수\n",
    "        if self.comp(self.arr[left_idx], self.arr[right_idx]) < 0:\n",
    "            return right_idx # 오른쪽 자식의 우선순위가 높다\n",
    "        else:\n",
    "            return left_idx  # 왼쪽 자식의 우선순위가 같거나 높다\n",
    "        \n",
    "    "
   ]
  },
  {
   "cell_type": "code",
   "execution_count": null,
   "metadata": {},
   "outputs": [],
   "source": []
  },
  {
   "cell_type": "code",
   "execution_count": null,
   "metadata": {},
   "outputs": [],
   "source": []
  },
  {
   "cell_type": "code",
   "execution_count": null,
   "metadata": {},
   "outputs": [],
   "source": []
  },
  {
   "cell_type": "code",
   "execution_count": null,
   "metadata": {},
   "outputs": [],
   "source": []
  },
  {
   "cell_type": "code",
   "execution_count": null,
   "metadata": {},
   "outputs": [],
   "source": []
  },
  {
   "cell_type": "code",
   "execution_count": null,
   "metadata": {},
   "outputs": [],
   "source": []
  },
  {
   "cell_type": "code",
   "execution_count": null,
   "metadata": {},
   "outputs": [],
   "source": []
  },
  {
   "cell_type": "code",
   "execution_count": null,
   "metadata": {},
   "outputs": [],
   "source": []
  },
  {
   "cell_type": "code",
   "execution_count": null,
   "metadata": {},
   "outputs": [],
   "source": []
  }
 ],
 "metadata": {
  "kernelspec": {
   "display_name": "Python 3",
   "language": "python",
   "name": "python3"
  },
  "language_info": {
   "codemirror_mode": {
    "name": "ipython",
    "version": 3
   },
   "file_extension": ".py",
   "mimetype": "text/x-python",
   "name": "python",
   "nbconvert_exporter": "python",
   "pygments_lexer": "ipython3",
   "version": "3.7.4"
  }
 },
 "nbformat": 4,
 "nbformat_minor": 2
}
