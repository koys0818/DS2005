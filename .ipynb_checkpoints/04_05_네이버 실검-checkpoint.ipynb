{
 "cells": [
  {
   "cell_type": "markdown",
   "metadata": {},
   "source": [
    "# 네이버 실검"
   ]
  },
  {
   "cell_type": "code",
   "execution_count": 2,
   "metadata": {},
   "outputs": [],
   "source": [
    "\"\"\"\n",
    "\n",
    "2020.5 현재 \n",
    "검색어 필터 설정을 해주어야 한다\n",
    "\n",
    "개발자 도구-Network - XHR 필터링 한후 확인해보자.\n",
    "\n",
    "https://apis.naver.com/mobile_main/srchrank/srchrank?frm=main&ag=40s&gr=4&ma=2&si=2&en=2&sp=2\n",
    "\n",
    "https://apis.naver.com/mobile_main/srchrank/srchrank?frm=main\n",
    "&ag=40s\n",
    "&gr=4     묶어보기?\n",
    "&ma=2    이벤트할인?\n",
    "&si=2    시사?\n",
    "&en=2    엔터테인먼트?\n",
    "&sp=2    스포츠?\n",
    "\"\"\"\n",
    "None"
   ]
  },
  {
   "cell_type": "code",
   "execution_count": 3,
   "metadata": {
    "scrolled": true
   },
   "outputs": [
    {
     "data": {
      "text/plain": [
       "['유현주',\n",
       " '진중권',\n",
       " '잠실 날씨',\n",
       " '이연희',\n",
       " '박지훈',\n",
       " '농협몰',\n",
       " '배선우',\n",
       " '밥블레스유 대창꼬치',\n",
       " '럭키 식당',\n",
       " '호랑이 선생님',\n",
       " '고성희',\n",
       " '굿걸',\n",
       " '스승의날 편지',\n",
       " '아내의 자격',\n",
       " '퀸 와사비',\n",
       " '뺑반',\n",
       " '버스터즈',\n",
       " '한명숙',\n",
       " '성분에디터',\n",
       " '한만호']"
      ]
     },
     "execution_count": 3,
     "metadata": {},
     "output_type": "execute_result"
    }
   ],
   "source": [
    "['유현주',\n",
    " '진중권',\n",
    " '잠실 날씨',\n",
    " '이연희',\n",
    " '박지훈',\n",
    " '농협몰',\n",
    " '배선우',\n",
    " '밥블레스유 대창꼬치',\n",
    " '럭키 식당',\n",
    " '호랑이 선생님',\n",
    " '고성희',\n",
    " '굿걸',\n",
    " '스승의날 편지',\n",
    " '아내의 자격',\n",
    " '퀸 와사비',\n",
    " '뺑반',\n",
    " '버스터즈',\n",
    " '한명숙',\n",
    " '성분에디터',\n",
    " '한만호']"
   ]
  },
  {
   "cell_type": "code",
   "execution_count": 2,
   "metadata": {},
   "outputs": [],
   "source": [
    "import requests\n",
    "from bs4 import BeautifulSoup"
   ]
  },
  {
   "cell_type": "code",
   "execution_count": 3,
   "metadata": {},
   "outputs": [
    {
     "data": {
      "text/plain": [
       "<Response [200]>"
      ]
     },
     "execution_count": 3,
     "metadata": {},
     "output_type": "execute_result"
    }
   ],
   "source": [
    "url = \"https://apis.naver.com/mobile_main/srchrank/srchrank?frm=main&ag=40s&gr=4&ma=2&si=2&en=2&sp=2\"\n",
    "response = requests.get(url)\n",
    "response"
   ]
  },
  {
   "cell_type": "code",
   "execution_count": 4,
   "metadata": {},
   "outputs": [
    {
     "data": {
      "text/plain": [
       "'{\"ts\":\"2020-05-25T19:10:00+0900\",\"sm\":\"ag40sgrpmapsipenpspp\",\"rop\":[{\"ag\":\"40s\"},{\"gr\":\"04\"},{\"ma\":\"02\"},{\"si\":\"02\"},{\"en\":\"02\"},{\"sp\":\"02\"}],\"data\":[{\"rank\":1,\"keyword\":\"속초붉은대게\",\"keyword_synonyms\":[\"붉은대게\"]},{\"rank\":2,\"keyword\":\"이용수\",\"keyword_synonyms\":[\"이용수 할머니 기자회견\",\"윤미향국회의원\",\"정신대\",\"이용수 할머니\",\"정신대 위안부\",\"위안부\",\"윤미향\",\"정대협\",\"윤미향학력\"]},{\"rank\":3,\"keyword\":\"동대문엽기떡볶이\",\"keyword_synonyms\":[]},{\"rank\":4,\"keyword\":\"약쿠르트\",\"keyword_synonyms\":[]},{\"rank\":5,\"keyword\":\"최송현\",\"keyword_synonyms\":[\"최송현 이재한\",\"최송현 아빠\",\"부러우면 지는거다\",\"이재한\"]},{\"rank\":6,\"keyword\":\"곽상도\",\"keyword_synonyms\":[]},{\"rank\":7,\"keyword\":\"강정호\",\"keyword_synonyms\":[]},{\"rank\":8,\"keyword\":\"서울시 자영업자 생존자금신청\",\"keyword_synonyms\":[]},{\"rank\":9,\"keyword\":\"강서구 확진자\",\"keyword_synonyms\":[]},{\"rank\":10,\"keyword\":\"붉은대게살\",\"keyword_synonyms\":[]},{\"rank\":11,\"keyword\":\"야식남녀\",\"keyword_synonyms\":[\"저녁 같이 드실래요?\",\"서지혜\",\"손나은\"]},{\"rank\":12,\"keyword\":\"국세환급금\",\"keyword_synonyms\":[]},{\"rank\":13,\"keyword\":\"김우석\",\"keyword_synonyms\":[]},{\"rank\":14,\"keyword\":\"박성광\",\"keyword_synonyms\":[\"이솔이\",\"이솔이 직업\",\"박성광 이솔이\"]},{\"rank\":15,\"keyword\":\"아산 이마트\",\"keyword_synonyms\":[]},{\"rank\":16,\"keyword\":\"6시내고향\",\"keyword_synonyms\":[\"6시내고향 홈페이지\",\"상생장터홈페이지\",\"상생장터\",\"6시내고향 상생장터감자\",\"내고향상생장터\",\"6시내고향 상생장터\"]},{\"rank\":17,\"keyword\":\"플레디스\",\"keyword_synonyms\":[\"빅히트\"]},{\"rank\":18,\"keyword\":\"토르\",\"keyword_synonyms\":[\"토르 천둥의 신\"]},{\"rank\":19,\"keyword\":\"보고또보고\",\"keyword_synonyms\":[]},{\"rank\":20,\"keyword\":\"생방송 오늘저녁\",\"keyword_synonyms\":[]}]}\\n'"
      ]
     },
     "execution_count": 4,
     "metadata": {},
     "output_type": "execute_result"
    }
   ],
   "source": [
    "response.text"
   ]
  },
  {
   "cell_type": "code",
   "execution_count": 5,
   "metadata": {},
   "outputs": [
    {
     "data": {
      "text/plain": [
       "{'ts': '2020-05-25T19:10:00+0900',\n",
       " 'sm': 'ag40sgrpmapsipenpspp',\n",
       " 'rop': [{'ag': '40s'},\n",
       "  {'gr': '04'},\n",
       "  {'ma': '02'},\n",
       "  {'si': '02'},\n",
       "  {'en': '02'},\n",
       "  {'sp': '02'}],\n",
       " 'data': [{'rank': 1, 'keyword': '속초붉은대게', 'keyword_synonyms': ['붉은대게']},\n",
       "  {'rank': 2,\n",
       "   'keyword': '이용수',\n",
       "   'keyword_synonyms': ['이용수 할머니 기자회견',\n",
       "    '윤미향국회의원',\n",
       "    '정신대',\n",
       "    '이용수 할머니',\n",
       "    '정신대 위안부',\n",
       "    '위안부',\n",
       "    '윤미향',\n",
       "    '정대협',\n",
       "    '윤미향학력']},\n",
       "  {'rank': 3, 'keyword': '동대문엽기떡볶이', 'keyword_synonyms': []},\n",
       "  {'rank': 4, 'keyword': '약쿠르트', 'keyword_synonyms': []},\n",
       "  {'rank': 5,\n",
       "   'keyword': '최송현',\n",
       "   'keyword_synonyms': ['최송현 이재한', '최송현 아빠', '부러우면 지는거다', '이재한']},\n",
       "  {'rank': 6, 'keyword': '곽상도', 'keyword_synonyms': []},\n",
       "  {'rank': 7, 'keyword': '강정호', 'keyword_synonyms': []},\n",
       "  {'rank': 8, 'keyword': '서울시 자영업자 생존자금신청', 'keyword_synonyms': []},\n",
       "  {'rank': 9, 'keyword': '강서구 확진자', 'keyword_synonyms': []},\n",
       "  {'rank': 10, 'keyword': '붉은대게살', 'keyword_synonyms': []},\n",
       "  {'rank': 11,\n",
       "   'keyword': '야식남녀',\n",
       "   'keyword_synonyms': ['저녁 같이 드실래요?', '서지혜', '손나은']},\n",
       "  {'rank': 12, 'keyword': '국세환급금', 'keyword_synonyms': []},\n",
       "  {'rank': 13, 'keyword': '김우석', 'keyword_synonyms': []},\n",
       "  {'rank': 14,\n",
       "   'keyword': '박성광',\n",
       "   'keyword_synonyms': ['이솔이', '이솔이 직업', '박성광 이솔이']},\n",
       "  {'rank': 15, 'keyword': '아산 이마트', 'keyword_synonyms': []},\n",
       "  {'rank': 16,\n",
       "   'keyword': '6시내고향',\n",
       "   'keyword_synonyms': ['6시내고향 홈페이지',\n",
       "    '상생장터홈페이지',\n",
       "    '상생장터',\n",
       "    '6시내고향 상생장터감자',\n",
       "    '내고향상생장터',\n",
       "    '6시내고향 상생장터']},\n",
       "  {'rank': 17, 'keyword': '플레디스', 'keyword_synonyms': ['빅히트']},\n",
       "  {'rank': 18, 'keyword': '토르', 'keyword_synonyms': ['토르 천둥의 신']},\n",
       "  {'rank': 19, 'keyword': '보고또보고', 'keyword_synonyms': []},\n",
       "  {'rank': 20, 'keyword': '생방송 오늘저녁', 'keyword_synonyms': []}]}"
      ]
     },
     "execution_count": 5,
     "metadata": {},
     "output_type": "execute_result"
    }
   ],
   "source": [
    "jsondata = response.json()\n",
    "jsondata"
   ]
  },
  {
   "cell_type": "code",
   "execution_count": null,
   "metadata": {},
   "outputs": [],
   "source": []
  },
  {
   "cell_type": "code",
   "execution_count": 8,
   "metadata": {},
   "outputs": [
    {
     "data": {
      "text/plain": [
       "dict"
      ]
     },
     "execution_count": 8,
     "metadata": {},
     "output_type": "execute_result"
    }
   ],
   "source": [
    "type(jsondata)\n",
    "type(jsondata['data'])\n",
    "type(jsondata['data'][0])"
   ]
  },
  {
   "cell_type": "code",
   "execution_count": 9,
   "metadata": {},
   "outputs": [
    {
     "data": {
      "text/plain": [
       "20"
      ]
     },
     "execution_count": 9,
     "metadata": {},
     "output_type": "execute_result"
    }
   ],
   "source": [
    "itemList = jsondata['data']\n",
    "len(itemList)"
   ]
  },
  {
   "cell_type": "code",
   "execution_count": 10,
   "metadata": {},
   "outputs": [
    {
     "data": {
      "text/plain": [
       "['속초붉은대게',\n",
       " '이용수',\n",
       " '동대문엽기떡볶이',\n",
       " '약쿠르트',\n",
       " '최송현',\n",
       " '곽상도',\n",
       " '강정호',\n",
       " '서울시 자영업자 생존자금신청',\n",
       " '강서구 확진자',\n",
       " '붉은대게살',\n",
       " '야식남녀',\n",
       " '국세환급금',\n",
       " '김우석',\n",
       " '박성광',\n",
       " '아산 이마트',\n",
       " '6시내고향',\n",
       " '플레디스',\n",
       " '토르',\n",
       " '보고또보고',\n",
       " '생방송 오늘저녁']"
      ]
     },
     "execution_count": 10,
     "metadata": {},
     "output_type": "execute_result"
    }
   ],
   "source": [
    "result = [\n",
    "    item['keyword']\n",
    "    for item in itemList\n",
    "]\n",
    "result"
   ]
  },
  {
   "cell_type": "markdown",
   "metadata": {},
   "source": [
    "# 완성"
   ]
  },
  {
   "cell_type": "code",
   "execution_count": 11,
   "metadata": {},
   "outputs": [
    {
     "name": "stdout",
     "output_type": "stream",
     "text": [
      "['속초붉은대게', '이용수', '생생정보 리얼가왕', '동대문엽기떡볶이', '이천 한식 보리밥 뷔페', '약쿠르트', '곽상도', '최송현', '강정호', '서울시 자영업자 생존자금신청', '붉은대게살', '강서구 확진자', '야식남녀', '김우석', '박성광', '토르', '문정인', '국세환급금', '아산 이마트', '6시내고향']\n"
     ]
    }
   ],
   "source": [
    "import requests\n",
    "from bs4 import BeautifulSoup\n",
    "url = \"https://apis.naver.com/mobile_main/srchrank/srchrank?frm=main&ag=40s&gr=4&ma=2&si=2&en=2&sp=2\"\n",
    "response = requests.get(url)\n",
    "jsondata = response.json()\n",
    "itemList = jsondata['data']\n",
    "result = [\n",
    "    item['keyword']\n",
    "    for item in itemList\n",
    "]\n",
    "print(result)"
   ]
  },
  {
   "cell_type": "code",
   "execution_count": null,
   "metadata": {},
   "outputs": [],
   "source": []
  },
  {
   "cell_type": "code",
   "execution_count": null,
   "metadata": {},
   "outputs": [],
   "source": []
  },
  {
   "cell_type": "code",
   "execution_count": null,
   "metadata": {},
   "outputs": [],
   "source": []
  }
 ],
 "metadata": {
  "kernelspec": {
   "display_name": "Python 3",
   "language": "python",
   "name": "python3"
  },
  "language_info": {
   "codemirror_mode": {
    "name": "ipython",
    "version": 3
   },
   "file_extension": ".py",
   "mimetype": "text/x-python",
   "name": "python",
   "nbconvert_exporter": "python",
   "pygments_lexer": "ipython3",
   "version": "3.7.4"
  }
 },
 "nbformat": 4,
 "nbformat_minor": 2
}
