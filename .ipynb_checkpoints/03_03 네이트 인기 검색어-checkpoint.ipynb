{
 "cells": [
  {
   "cell_type": "markdown",
   "metadata": {},
   "source": [
    "### 연습: 네이트 인기 검색어"
   ]
  },
  {
   "cell_type": "code",
   "execution_count": 1,
   "metadata": {},
   "outputs": [],
   "source": [
    "\"\"\"\n",
    "[결과예]\n",
    "[\n",
    "    {'검색어': '민주당 압승', \n",
    "    'URL': 'https://search.daum.net/nate?w=tot&q=%EB%AF%BC%EC%A3%BC%EB%8B%B9+%EC%95%95%EC%8A%B9'\n",
    "    }, \n",
    "    {'검색어': '기부 동참', \n",
    "    'URL': 'https://search.daum.net/nate?w=tot&DA=NBZ&q=%ED%9B%84%EC%9B%90'\n",
    "    }, \n",
    "    {'검색어': '스마일라식', \n",
    "    'URL': 'https://search.daum.net/nate?w=tot&DA=NBZ&q=%EC%8A%A4%EB%A7%88%EC%9D%BC%EB%9D%BC%EC%8B%9D'\n",
    "    }, \n",
    "    {'검색어': '솔비 추모 그림', \n",
    "    'URL': 'https://search.daum.net/nate?w=tot&q=%EC%86%94%EB%B9%84+%EC%B6%94%EB%AA%A8+%EA%B7%B8%EB%A6%BC'\n",
    "    }, \n",
    "    {'검색어': '세월호 6주기', \n",
    "    'URL': 'https://search.daum.net/nate?w=tot&q=%EC%84%B8%EC%9B%94%ED%98%B8+6%EC%A3%BC%EA%B8%B0'\n",
    "    }\n",
    "]\n",
    "\"\"\"\n",
    "None"
   ]
  },
  {
   "cell_type": "code",
   "execution_count": 3,
   "metadata": {},
   "outputs": [
    {
     "name": "stdout",
     "output_type": "stream",
     "text": [
      "네이트 인기 검색어\n",
      "5\n",
      "[{'검색어': '이태원 아이돌 논란', 'URL': 'https://search.daum.net/nate?w=tot&q=%EC%9D%B4%ED%83%9C%EC%9B%90+%EC%95%84%EC%9D%B4%EB%8F%8C'}, {'검색어': '수면장애', 'URL': 'https://search.daum.net/nate?w=tot&DA=NAD&q=%EC%88%98%EB%A9%B4%EC%9E%A5%EC%95%A0'}, {'검색어': '결혼', 'URL': 'https://search.daum.net/nate?w=tot&DA=NAD&q=%EA%B2%B0%ED%98%BC%EC%A4%91%EB%A7%A4%EC%82%AC%EC%9D%B4%ED%8A%B8'}, {'검색어': '류현진 배지현 득녀', 'URL': 'https://search.daum.net/nate?w=tot&q=%EB%A5%98%ED%98%84%EC%A7%84+%EB%B0%B0%EC%A7%80%ED%98%84'}, {'검색어': '조민아 근황', 'URL': 'https://search.daum.net/nate?w=tot&q=%EC%A1%B0%EB%AF%BC%EC%95%84+%ED%99%88%ED%8A%B8'}]\n"
     ]
    }
   ],
   "source": [
    "import requests\n",
    "import pprint\n",
    "from bs4 import BeautifulSoup\n",
    "\n",
    "print('네이트 인기 검색어')\n",
    "url = 'https://www.nate.com'\n",
    "response = requests.get(url)\n",
    "if response.status_code == 200:\n",
    "    dom = BeautifulSoup(response.text, 'html.parser')\n",
    "    \n",
    "    elements = dom.select('.search_keyword a')\n",
    "    print(len(elements)) # 5개 확인!\n",
    "\n",
    "    result = [\n",
    "        {\n",
    "            '검색어' : element.text.strip()\n",
    "            ,'URL' : element.attrs.get('href').strip()\n",
    "        }\n",
    "        for element in elements\n",
    "    ]\n",
    "    \n",
    "    print(result)\n",
    "\n",
    "\n"
   ]
  },
  {
   "cell_type": "code",
   "execution_count": 4,
   "metadata": {},
   "outputs": [],
   "source": [
    "import pprint"
   ]
  },
  {
   "cell_type": "code",
   "execution_count": null,
   "metadata": {},
   "outputs": [],
   "source": []
  },
  {
   "cell_type": "code",
   "execution_count": null,
   "metadata": {},
   "outputs": [],
   "source": []
  },
  {
   "cell_type": "code",
   "execution_count": null,
   "metadata": {},
   "outputs": [],
   "source": []
  },
  {
   "cell_type": "code",
   "execution_count": null,
   "metadata": {},
   "outputs": [],
   "source": []
  },
  {
   "cell_type": "code",
   "execution_count": null,
   "metadata": {},
   "outputs": [],
   "source": []
  }
 ],
 "metadata": {
  "kernelspec": {
   "display_name": "Python 3",
   "language": "python",
   "name": "python3"
  },
  "language_info": {
   "codemirror_mode": {
    "name": "ipython",
    "version": 3
   },
   "file_extension": ".py",
   "mimetype": "text/x-python",
   "name": "python",
   "nbconvert_exporter": "python",
   "pygments_lexer": "ipython3",
   "version": "3.7.4"
  }
 },
 "nbformat": 4,
 "nbformat_minor": 2
}
