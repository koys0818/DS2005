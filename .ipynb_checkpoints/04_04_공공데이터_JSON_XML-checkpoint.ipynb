{
 "cells": [
  {
   "cell_type": "markdown",
   "metadata": {},
   "source": [
    "# XML, JSON  "
   ]
  },
  {
   "cell_type": "code",
   "execution_count": 1,
   "metadata": {},
   "outputs": [],
   "source": [
    "\"\"\"\n",
    "■서울시 지하철호선별 역별 승하차 인원 정보 \n",
    "http://data.seoul.go.kr/dataList/datasetView.do?infId=OA-12914&srvType=A&serviceKind=1&currentPageNo=1\n",
    "\n",
    "샘플url\n",
    "\n",
    "XML 버젼 (eXtensible Markup Language)\n",
    "http://openapi.seoul.go.kr:8088/키값을넣으세요/xml/CardSubwayStatsNew/1/5/20181001\n",
    "예) http://openapi.seoul.go.kr:8088/4d46796d7366726f3833774a774955/xml/CardSubwayStatsNew/1/5/20181001  \n",
    "\n",
    "JSON 버젼 (JavaScript Object Notation)\n",
    "http://openapi.seoul.go.kr:8088/키값을넣으세요/json/CardSubwayStatsNew/1/5/20181001\n",
    "예) http://openapi.seoul.go.kr:8088/4d46796d7366726f3833774a774955/json/CardSubwayStatsNew/1/5/20181001 \n",
    "\n",
    "\n",
    "- 호선번호\n",
    "- 역이름\n",
    "- 승차인원\n",
    "- 하차인원\n",
    "\n",
    "\"\"\"\n",
    "None\n",
    "\n",
    "\n"
   ]
  },
  {
   "cell_type": "code",
   "execution_count": 4,
   "metadata": {},
   "outputs": [],
   "source": [
    "import requests\n",
    "from bs4 import BeautifulSoup\n",
    "import time"
   ]
  },
  {
   "cell_type": "markdown",
   "metadata": {},
   "source": [
    "## xml"
   ]
  },
  {
   "cell_type": "code",
   "execution_count": 3,
   "metadata": {},
   "outputs": [
    {
     "data": {
      "text/plain": [
       "'http://openapi.seoul.go.kr:8088/4d46796d7366726f3833774a774955/xml/CardSubwayStatsNew/1/5/20200510'"
      ]
     },
     "execution_count": 3,
     "metadata": {},
     "output_type": "execute_result"
    }
   ],
   "source": [
    "api_key = \"4d46796d7366726f3833774a774955\"\n",
    "req_type = \"xml\"\n",
    "end_index = 5\n",
    "date = '20200510'\n",
    "url = f\"http://openapi.seoul.go.kr:8088/{api_key}/{req_type}/CardSubwayStatsNew/1/{end_index}/{date}\"\n",
    "\n",
    "url"
   ]
  },
  {
   "cell_type": "code",
   "execution_count": 5,
   "metadata": {},
   "outputs": [
    {
     "data": {
      "text/plain": [
       "<Response [200]>"
      ]
     },
     "execution_count": 5,
     "metadata": {},
     "output_type": "execute_result"
    }
   ],
   "source": [
    "response = requests.get(url)\n",
    "response"
   ]
  },
  {
   "cell_type": "code",
   "execution_count": 7,
   "metadata": {},
   "outputs": [],
   "source": [
    "# response.text  # 확인"
   ]
  },
  {
   "cell_type": "code",
   "execution_count": 9,
   "metadata": {},
   "outputs": [],
   "source": [
    "dom = BeautifulSoup(response.text, 'lxml-xml')  # XML 파싱!\n",
    "# dom"
   ]
  },
  {
   "cell_type": "code",
   "execution_count": 10,
   "metadata": {},
   "outputs": [
    {
     "data": {
      "text/plain": [
       "5"
      ]
     },
     "execution_count": 10,
     "metadata": {},
     "output_type": "execute_result"
    }
   ],
   "source": [
    "items = dom.select(\"row\")\n",
    "len(items)"
   ]
  },
  {
   "cell_type": "code",
   "execution_count": 11,
   "metadata": {},
   "outputs": [
    {
     "data": {
      "text/plain": [
       "[['1호선', '서울역', '22350', '19383'],\n",
       " ['1호선', '시청', '5581', '5294'],\n",
       " ['1호선', '종각', '11252', '10025'],\n",
       " ['1호선', '종로3가', '12897', '11965'],\n",
       " ['1호선', '종로5가', '7421', '7758']]"
      ]
     },
     "execution_count": 11,
     "metadata": {},
     "output_type": "execute_result"
    }
   ],
   "source": [
    "result = [\n",
    "    [\n",
    "        item.select_one(\"LINE_NUM\").text.strip(),\n",
    "        item.select_one(\"SUB_STA_NM\").text.strip(),\n",
    "        item.select_one(\"RIDE_PASGR_NUM\").text.strip(),\n",
    "        item.select_one(\"ALIGHT_PASGR_NUM\").text.strip()\n",
    "    ]  \n",
    "    for item in items\n",
    "]\n",
    "result"
   ]
  },
  {
   "cell_type": "code",
   "execution_count": null,
   "metadata": {},
   "outputs": [],
   "source": []
  },
  {
   "cell_type": "markdown",
   "metadata": {},
   "source": [
    "# JSON"
   ]
  },
  {
   "cell_type": "code",
   "execution_count": 12,
   "metadata": {},
   "outputs": [
    {
     "data": {
      "text/plain": [
       "'http://openapi.seoul.go.kr:8088/4d46796d7366726f3833774a774955/json/CardSubwayStatsNew/1/5/20200510'"
      ]
     },
     "execution_count": 12,
     "metadata": {},
     "output_type": "execute_result"
    }
   ],
   "source": [
    "api_key = \"4d46796d7366726f3833774a774955\"\n",
    "req_type = \"json\"\n",
    "end_index = 5\n",
    "date = '20200510'\n",
    "url = f\"http://openapi.seoul.go.kr:8088/{api_key}/{req_type}/CardSubwayStatsNew/1/{end_index}/{date}\"\n",
    "\n",
    "url"
   ]
  },
  {
   "cell_type": "code",
   "execution_count": 13,
   "metadata": {},
   "outputs": [
    {
     "data": {
      "text/plain": [
       "<Response [200]>"
      ]
     },
     "execution_count": 13,
     "metadata": {},
     "output_type": "execute_result"
    }
   ],
   "source": [
    "response = requests.get(url)\n",
    "response"
   ]
  },
  {
   "cell_type": "code",
   "execution_count": 14,
   "metadata": {},
   "outputs": [
    {
     "data": {
      "text/plain": [
       "'{\"CardSubwayStatsNew\":{\"list_total_count\":590,\"RESULT\":{\"CODE\":\"INFO-000\",\"MESSAGE\":\"정상 처리되었습니다\"},\"row\":[{\"USE_DT\":\"20200510\",\"LINE_NUM\":\"1호선\",\"SUB_STA_NM\":\"서울역\",\"RIDE_PASGR_NUM\":22350.0,\"ALIGHT_PASGR_NUM\":19383.0,\"WORK_DT\":\"20200513\"},{\"USE_DT\":\"20200510\",\"LINE_NUM\":\"1호선\",\"SUB_STA_NM\":\"시청\",\"RIDE_PASGR_NUM\":5581.0,\"ALIGHT_PASGR_NUM\":5294.0,\"WORK_DT\":\"20200513\"},{\"USE_DT\":\"20200510\",\"LINE_NUM\":\"1호선\",\"SUB_STA_NM\":\"종각\",\"RIDE_PASGR_NUM\":11252.0,\"ALIGHT_PASGR_NUM\":10025.0,\"WORK_DT\":\"20200513\"},{\"USE_DT\":\"20200510\",\"LINE_NUM\":\"1호선\",\"SUB_STA_NM\":\"종로3가\",\"RIDE_PASGR_NUM\":12897.0,\"ALIGHT_PASGR_NUM\":11965.0,\"WORK_DT\":\"20200513\"},{\"USE_DT\":\"20200510\",\"LINE_NUM\":\"1호선\",\"SUB_STA_NM\":\"종로5가\",\"RIDE_PASGR_NUM\":7421.0,\"ALIGHT_PASGR_NUM\":7758.0,\"WORK_DT\":\"20200513\"}]}}'"
      ]
     },
     "execution_count": 14,
     "metadata": {},
     "output_type": "execute_result"
    }
   ],
   "source": [
    "response.text"
   ]
  },
  {
   "cell_type": "code",
   "execution_count": 17,
   "metadata": {},
   "outputs": [
    {
     "data": {
      "text/plain": [
       "dict"
      ]
     },
     "execution_count": 17,
     "metadata": {},
     "output_type": "execute_result"
    }
   ],
   "source": [
    "data = response.json()  # JSON 텍스트 -> 파이썬 데이터 (list, dict) 로 변환\n",
    "type(data)"
   ]
  },
  {
   "cell_type": "code",
   "execution_count": 18,
   "metadata": {},
   "outputs": [
    {
     "data": {
      "text/plain": [
       "5"
      ]
     },
     "execution_count": 18,
     "metadata": {},
     "output_type": "execute_result"
    }
   ],
   "source": [
    "items = data['CardSubwayStatsNew']['row']\n",
    "len(items)"
   ]
  },
  {
   "cell_type": "code",
   "execution_count": 19,
   "metadata": {},
   "outputs": [
    {
     "data": {
      "text/plain": [
       "[['1호선', '서울역', 22350.0, 19383.0],\n",
       " ['1호선', '시청', 5581.0, 5294.0],\n",
       " ['1호선', '종각', 11252.0, 10025.0],\n",
       " ['1호선', '종로3가', 12897.0, 11965.0],\n",
       " ['1호선', '종로5가', 7421.0, 7758.0]]"
      ]
     },
     "execution_count": 19,
     "metadata": {},
     "output_type": "execute_result"
    }
   ],
   "source": [
    "result = [\n",
    "    [\n",
    "        item['LINE_NUM'],\n",
    "        item[\"SUB_STA_NM\"], \n",
    "        item[\"RIDE_PASGR_NUM\"], \n",
    "        item[\"ALIGHT_PASGR_NUM\"]\n",
    "    ]\n",
    "    for item in items\n",
    "]\n",
    "result"
   ]
  },
  {
   "cell_type": "markdown",
   "metadata": {},
   "source": [
    "# 완성"
   ]
  },
  {
   "cell_type": "code",
   "execution_count": 20,
   "metadata": {},
   "outputs": [
    {
     "name": "stdout",
     "output_type": "stream",
     "text": [
      "[['1호선', '서울역', '22350', '19383'], ['1호선', '시청', '5581', '5294'], ['1호선', '종각', '11252', '10025'], ['1호선', '종로3가', '12897', '11965'], ['1호선', '종로5가', '7421', '7758']]\n",
      "--------------------\n",
      "[['1호선', '서울역', 22350.0, 19383.0], ['1호선', '시청', 5581.0, 5294.0], ['1호선', '종각', 11252.0, 10025.0], ['1호선', '종로3가', 12897.0, 11965.0], ['1호선', '종로5가', 7421.0, 7758.0]]\n"
     ]
    }
   ],
   "source": [
    "import requests\n",
    "from bs4 import BeautifulSoup\n",
    "\n",
    "api_key = \"4d46796d7366726f3833774a774955\"  # 너의 키값은?\n",
    "end_index = 5\n",
    "date = '20200510'\n",
    "\n",
    "# xml\n",
    "req_type = \"xml\"\n",
    "url = f\"http://openapi.seoul.go.kr:8088/{api_key}/{req_type}/CardSubwayStatsNew/1/{end_index}/{date}\"\n",
    "response = requests.get(url)\n",
    "dom = BeautifulSoup(response.text, 'lxml-xml')  # XML 파싱!\n",
    "items = dom.select(\"row\")\n",
    "result = [\n",
    "    [\n",
    "        item.select_one(\"LINE_NUM\").text.strip(),\n",
    "        item.select_one(\"SUB_STA_NM\").text.strip(),\n",
    "        item.select_one(\"RIDE_PASGR_NUM\").text.strip(),\n",
    "        item.select_one(\"ALIGHT_PASGR_NUM\").text.strip()\n",
    "    ]  \n",
    "    for item in items\n",
    "]\n",
    "print(result)\n",
    "\n",
    "print('-' * 20)\n",
    "\n",
    "# json\n",
    "req_type = \"json\"\n",
    "url = f\"http://openapi.seoul.go.kr:8088/{api_key}/{req_type}/CardSubwayStatsNew/1/{end_index}/{date}\"\n",
    "response = requests.get(url)\n",
    "data = response.json()  # JSON 텍스트 -> 파이썬 데이터 (list, dict) 로 변환\n",
    "items = data['CardSubwayStatsNew']['row']\n",
    "result = [\n",
    "    [\n",
    "        item['LINE_NUM'],\n",
    "        item[\"SUB_STA_NM\"], \n",
    "        item[\"RIDE_PASGR_NUM\"], \n",
    "        item[\"ALIGHT_PASGR_NUM\"]\n",
    "    ]\n",
    "    for item in items\n",
    "]\n",
    "print(result)\n"
   ]
  },
  {
   "cell_type": "code",
   "execution_count": null,
   "metadata": {},
   "outputs": [],
   "source": []
  },
  {
   "cell_type": "code",
   "execution_count": null,
   "metadata": {},
   "outputs": [],
   "source": []
  },
  {
   "cell_type": "code",
   "execution_count": null,
   "metadata": {},
   "outputs": [],
   "source": []
  },
  {
   "cell_type": "code",
   "execution_count": null,
   "metadata": {},
   "outputs": [],
   "source": []
  }
 ],
 "metadata": {
  "kernelspec": {
   "display_name": "Python 3",
   "language": "python",
   "name": "python3"
  },
  "language_info": {
   "codemirror_mode": {
    "name": "ipython",
    "version": 3
   },
   "file_extension": ".py",
   "mimetype": "text/x-python",
   "name": "python",
   "nbconvert_exporter": "python",
   "pygments_lexer": "ipython3",
   "version": "3.7.4"
  }
 },
 "nbformat": 4,
 "nbformat_minor": 2
}
