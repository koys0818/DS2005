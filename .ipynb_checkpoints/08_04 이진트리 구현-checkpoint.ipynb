{
 "cells": [
  {
   "cell_type": "markdown",
   "metadata": {},
   "source": [
    "# 이진트리 구현"
   ]
  },
  {
   "cell_type": "code",
   "execution_count": 27,
   "metadata": {},
   "outputs": [],
   "source": [
    "# 이진트리의 노드\n",
    "class NodeBT(object):\n",
    "    def __init__(self, value=None):\n",
    "        self.value = value  # value\n",
    "        self.left = None    # left subtree\n",
    "        self.right = None   # right subtree\n",
    "    \n",
    "    def __repr__(self):\n",
    "        return \"{}\".format(self.value)\n",
    "    \n",
    "    # 재귀적으로 작성\n",
    "    def preorder_traverse(self, action=print):\n",
    "        # C -> L -> R\n",
    "        action(self.value) # C\n",
    "        if self.left: self.left.preorder_traverse(action) # L\n",
    "        if self.right: self.right.preorder_traverse(action) # R\n",
    "    \n",
    "    def postorder_traverse(self, action=print):\n",
    "        # L -> R -> C\n",
    "        if self.left: self.left.postorder_traverse(action) # L\n",
    "        if self.right: self.right.postorder_traverse(action) # R\n",
    "        action(self.value) # C\n",
    "\n",
    "    def inorder_traverse(self, action=print):\n",
    "        # L -> C -> R\n",
    "        if self.left: self.left.inorder_traverse(action) # L\n",
    "        action(self.value) # C\n",
    "        if self.right: self.right.inorder_traverse(action) # R\n",
    "            \n",
    "    \n",
    "    \n",
    "    "
   ]
  },
  {
   "cell_type": "code",
   "execution_count": 28,
   "metadata": {},
   "outputs": [
    {
     "data": {
      "text/plain": [
       "1"
      ]
     },
     "execution_count": 28,
     "metadata": {},
     "output_type": "execute_result"
    }
   ],
   "source": [
    "bt1 = NodeBT(1)\n",
    "bt1"
   ]
  },
  {
   "cell_type": "code",
   "execution_count": 29,
   "metadata": {},
   "outputs": [],
   "source": [
    "bt2 = NodeBT(2)\n",
    "bt3 = NodeBT(3)\n",
    "bt4 = NodeBT(4)\n",
    "bt5 = NodeBT(5)\n",
    "bt6 = NodeBT(6)\n",
    "bt7 = NodeBT(7)\n",
    "bt8 = NodeBT(8)\n",
    "bt9 = NodeBT(9)"
   ]
  },
  {
   "cell_type": "code",
   "execution_count": 30,
   "metadata": {},
   "outputs": [],
   "source": [
    "\"\"\"\n",
    "다음 그림의 이진 트리를 구현한다.\n",
    "\n",
    "                              1          ---> 레벨 1\n",
    "                        2           3    ---> 레벨 2\n",
    "                    4       5            ---> 레벨 3\n",
    "                6       7                ---> 레벨 4\n",
    "            8       9                    ---> 레벨 5\n",
    "\"\"\"\n",
    "None\n",
    "\n"
   ]
  },
  {
   "cell_type": "code",
   "execution_count": 31,
   "metadata": {},
   "outputs": [],
   "source": [
    "bt1.left = bt2\n",
    "bt1.right = bt3\n",
    "bt2.left = bt4\n",
    "bt2.right = bt5\n",
    "bt4.left = bt6\n",
    "bt4.right = bt7\n",
    "bt6.left = bt8\n",
    "bt6.right = bt9"
   ]
  },
  {
   "cell_type": "markdown",
   "metadata": {},
   "source": [
    "## Pre-order traversing 순서를 적어보세요"
   ]
  },
  {
   "cell_type": "code",
   "execution_count": 32,
   "metadata": {},
   "outputs": [
    {
     "name": "stdout",
     "output_type": "stream",
     "text": [
      "1\n",
      "2\n",
      "4\n",
      "6\n",
      "8\n",
      "9\n",
      "7\n",
      "5\n",
      "3\n"
     ]
    }
   ],
   "source": [
    "bt1.preorder_traverse(print)"
   ]
  },
  {
   "cell_type": "markdown",
   "metadata": {},
   "source": [
    "## Post-order traversing 순서를 적어보세요"
   ]
  },
  {
   "cell_type": "code",
   "execution_count": 33,
   "metadata": {},
   "outputs": [
    {
     "name": "stdout",
     "output_type": "stream",
     "text": [
      "8\n",
      "9\n",
      "6\n",
      "7\n",
      "4\n",
      "5\n",
      "2\n",
      "3\n",
      "1\n"
     ]
    }
   ],
   "source": [
    "bt1.postorder_traverse(print)"
   ]
  },
  {
   "cell_type": "markdown",
   "metadata": {},
   "source": [
    "## In-order traversing 순서를 적어보세요"
   ]
  },
  {
   "cell_type": "code",
   "execution_count": 34,
   "metadata": {},
   "outputs": [
    {
     "name": "stdout",
     "output_type": "stream",
     "text": [
      "8\n",
      "6\n",
      "9\n",
      "4\n",
      "7\n",
      "2\n",
      "5\n",
      "1\n",
      "3\n"
     ]
    }
   ],
   "source": [
    "bt1.inorder_traverse(print)"
   ]
  },
  {
   "cell_type": "markdown",
   "metadata": {},
   "source": [
    "## Level-order traversing 구현\n",
    "- Breath First Search(BFS) 라고도 함\n",
    "![bfs](https://upload.wikimedia.org/wikipedia/commons/thumb/d/d1/Sorted_binary_tree_breadth-first_traversal.svg/220px-Sorted_binary_tree_breadth-first_traversal.svg.png)\n",
    "\n",
    "- Queue 활용"
   ]
  },
  {
   "cell_type": "code",
   "execution_count": 35,
   "metadata": {},
   "outputs": [],
   "source": [
    "class Node(object):\n",
    "    def __init__(self, value=None, pointer=None):\n",
    "        self.value = value\n",
    "        self.pointer = pointer\n",
    "        \n",
    "class LinkedQueue(object):\n",
    "    def __init__(self):\n",
    "        self.head = None   # front\n",
    "        self.tail = None   # back\n",
    "        self.count = 0     # 데이터 개수\n",
    "        \n",
    "    def isEmpty(self):\n",
    "        return not bool(self.head)\n",
    "    \n",
    "    def enqueue(self, value):\n",
    "        newNode = Node(value)\n",
    "        if not self.head:   # 첫 데이터 인 경우\n",
    "            self.head = newNode\n",
    "            self.tail = newNode\n",
    "            self.count = 1\n",
    "        else:\n",
    "            # tail 에 새로운 데이터 추가해 나감\n",
    "            if self.tail:\n",
    "                self.tail.pointer = newNode # tail 뒤에 newNode 붙이기\n",
    "            self.tail = newNode  # tail 이동\n",
    "            self.count += 1   # 데이터 개수 +1 증가\n",
    "            \n",
    "    def size(self):\n",
    "        return self.count\n",
    "    \n",
    "    def dequeue(self):\n",
    "        if self.head:  # head 노드가 dequeue 된다.\n",
    "            value = self.head.value\n",
    "            \n",
    "            self.head = self.head.pointer # head 이동\n",
    "            self.count -= 1   # 데이터 -1 감소 \n",
    "            \n",
    "            return value\n",
    "        else:\n",
    "            print(\"큐가 비어있습니다\")\n",
    "            return None\n",
    "        \n",
    "    def peek(self):\n",
    "        if self.head:\n",
    "            return self.head.value\n",
    "        \n",
    "    def _print(self):\n",
    "        node = self.head\n",
    "        while node:\n",
    "            print(node.value, end=\" \")\n",
    "            node = node.pointer\n",
    "        print()"
   ]
  },
  {
   "cell_type": "code",
   "execution_count": 27,
   "metadata": {},
   "outputs": [],
   "source": [
    "# 이진트리의 노드\n",
    "class NodeBT(object):\n",
    "    def __init__(self, value=None):\n",
    "        self.value = value  # value\n",
    "        self.left = None    # left subtree\n",
    "        self.right = None   # right subtree\n",
    "    \n",
    "    def __repr__(self):\n",
    "        return \"{}\".format(self.value)\n",
    "    \n",
    "    # 재귀적으로 작성\n",
    "    def preorder_traverse(self, action=print):\n",
    "        # C -> L -> R\n",
    "        action(self.value) # C\n",
    "        if self.left: self.left.preorder_traverse(action) # L\n",
    "        if self.right: self.right.preorder_traverse(action) # R\n",
    "    \n",
    "    def postorder_traverse(self, action=print):\n",
    "        # L -> R -> C\n",
    "        if self.left: self.left.postorder_traverse(action) # L\n",
    "        if self.right: self.right.postorder_traverse(action) # R\n",
    "        action(self.value) # C\n",
    "\n",
    "    def inorder_traverse(self, action=print):\n",
    "        # L -> C -> R\n",
    "        if self.left: self.left.inorder_traverse(action) # L\n",
    "        action(self.value) # C\n",
    "        if self.right: self.right.inorder_traverse(action) # R\n",
    "    \n",
    "    # Level order traversing\n",
    "    # 재귀적인 구조 아님 (Queue 활용)\n",
    "    def levelorder_traverse(self, action=print):\n",
    "        queue = LinkedQueue()\n",
    "        \n",
    "        # 일단 root 를 먼저 enq\n",
    "        queue.enqueue(self)\n",
    "        \n",
    "        while not queue.isEmpty(): # 큐가 다 비어질때까지 순환\n",
    "            # 1. dequeue 하여 2. action\n",
    "            bt = queue.dequeue()\n",
    "            action(bt.value)\n",
    "            \n",
    "            # 3. left -> enqueue\n",
    "            \n",
    "            # 4. right -> enqueue\n",
    "            \n",
    "            \n",
    "        \n",
    "    \n",
    "    \n",
    "    "
   ]
  },
  {
   "cell_type": "code",
   "execution_count": null,
   "metadata": {},
   "outputs": [],
   "source": []
  },
  {
   "cell_type": "code",
   "execution_count": null,
   "metadata": {},
   "outputs": [],
   "source": []
  },
  {
   "cell_type": "code",
   "execution_count": null,
   "metadata": {},
   "outputs": [],
   "source": []
  },
  {
   "cell_type": "code",
   "execution_count": null,
   "metadata": {},
   "outputs": [],
   "source": []
  },
  {
   "cell_type": "code",
   "execution_count": null,
   "metadata": {},
   "outputs": [],
   "source": []
  },
  {
   "cell_type": "code",
   "execution_count": null,
   "metadata": {},
   "outputs": [],
   "source": []
  },
  {
   "cell_type": "code",
   "execution_count": null,
   "metadata": {},
   "outputs": [],
   "source": []
  }
 ],
 "metadata": {
  "kernelspec": {
   "display_name": "Python 3",
   "language": "python",
   "name": "python3"
  },
  "language_info": {
   "codemirror_mode": {
    "name": "ipython",
    "version": 3
   },
   "file_extension": ".py",
   "mimetype": "text/x-python",
   "name": "python",
   "nbconvert_exporter": "python",
   "pygments_lexer": "ipython3",
   "version": "3.7.4"
  }
 },
 "nbformat": 4,
 "nbformat_minor": 2
}
