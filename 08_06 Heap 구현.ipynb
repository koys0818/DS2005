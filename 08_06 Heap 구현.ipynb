{
 "cells": [
  {
   "cell_type": "markdown",
   "metadata": {},
   "source": [
    "# Heap 구현"
   ]
  },
  {
   "cell_type": "code",
   "execution_count": 9,
   "metadata": {},
   "outputs": [],
   "source": [
    "class Heap(object):\n",
    "    def __init__(self, comp):\n",
    "        self.arr = [None] # [0] 번째는 None 으로 채워놓고 시작\n",
    "        self.size = 0      # 노드(데이터)의 개수\n",
    "        # 우선순위 비교함수\n",
    "        self.comp = comp  # comp(d1, d2) 함수: d1 이 크면 양수, d2가 크면 음수를 리턴 \n",
    "    \n",
    "    # 부모노드의 인덱스\n",
    "    def get_parent_idx(self, idx):\n",
    "        return idx // 2\n",
    "    \n",
    "    # left 자식 노드의 인덱스\n",
    "    def get_left_idx(self, idx):\n",
    "        return idx * 2\n",
    "    \n",
    "    # right 자식 노드의 인덱스\n",
    "    def get_right_idx(self, idx):\n",
    "        return idx * 2 + 1\n",
    "    \n",
    "    # 두 자식 중에서 우선순위가 높은 자식의 인덱스 리턴  -> delete 에 사용 \n",
    "    def getHighPriority(self, idx):\n",
    "        left_idx = self.get_left_idx(idx)\n",
    "        right_idx = self.get_right_idx(idx)\n",
    "        \n",
    "        # 자식 노드 없다면 0 리턴\n",
    "        if left_idx > self.size: return 0\n",
    "        \n",
    "        # 자식 노드가 하나 밖에 없다면.\n",
    "        if left_idx == self.size: return left_idx\n",
    "        \n",
    "        # 두개의 자식 --> 비교\n",
    "        # 우선순위 함수\n",
    "        if self.comp(self.arr[left_idx], self.arr[right_idx]) < 0:\n",
    "            return right_idx # 오른쪽 자식의 우선순위가 높다\n",
    "        else:\n",
    "            return left_idx  # 왼쪽 자식의 우선순위가 같거나 높다\n",
    "    \n",
    "    # 힙에 데이터 추가 (insert)\n",
    "    def insert(self, data):\n",
    "        # 데이터 추가, 가장 마지막 데이터 다음에 위치\n",
    "        self.arr.append(data)\n",
    "        # 추가된 데이터의 리스트상의 인덱스\n",
    "        idx = len(self.arr) - 1 \n",
    "    \n",
    "        # 결국 새로 추가된 데이터의 idx 를 결정하면 된다.\n",
    "        while idx != 1: # 계속 부모와 비교하다가 루트(index 1) 까지 도달하면 종료 \n",
    "            parentData = self.arr[self.get_parent_idx(idx)]\n",
    "            if self.comp(data, parentData) > 0: # 부모보다 우선순위가 높다면\n",
    "                self.arr[idx] = parentData  # 부모를 자신의 위치로 끌어 내리고\n",
    "                idx = self.get_parent_idx(idx)  # 자신의 idx 값을 부모 idx 값으로 이동\n",
    "            else: \n",
    "                # 부모보다 우선순위가 같거나 작다면, 거기서 멈춤\n",
    "                break\n",
    "                \n",
    "        self.arr[idx] = data # idx 가 결정된 그곳에 새로운 데이터 자리잡기 \n",
    "        self.size += 1\n",
    "    \n",
    "    # 힙에 데이터 삭제 (delete)\n",
    "    def delete(self):\n",
    "        if self.size <= 0: return None\n",
    "        \n",
    "        retData = self.arr[1]  # 인덱스 1번, 루트노드 가 리턴될 것이다 (delete)\n",
    "        \n",
    "        lastData = self.arr[self.size]  # 마지막 노드\n",
    "        \n",
    "        parentIdx = 1  # 인덱스 1부터 시작해서 비교하며 내려올 것이다.\n",
    "                       \n",
    "        # 비교 다 끝나면 parentIdx <-- lastData            \n",
    "        # parentIdx 의 자식노드중 우선순위가 높은거 선택\n",
    "        # 만약에 자식이 없다면? 종료 \n",
    "        while True:\n",
    "            childIdx = self.getHighPriority(parentIdx) # parentIdx 의 자식노드중 우선순위가 높은거 선택\n",
    "            if not childIdx: break  # 만약에 자식이 없다면? 종료  \n",
    "    \n",
    "            # 선택된 자식(childIdx)과, lastData 우선순위 비교\n",
    "            # 만약 자식의 우선순위가 같거나 낮다면 종료\n",
    "            if self.comp(lastData, self.arr[childIdx]) >= 0: break\n",
    "                \n",
    "            # 자식의 우선순위가 더 높다면, 자식(childIdx)이 parentIdx 로 이동하고\n",
    "            # parentIdx는 그 자식의 인덱스(childIdx)로 내려와야 한다.\n",
    "            self.arr[parentIdx] = self.arr[childIdx]\n",
    "            parentIdx = childIdx\n",
    "            \n",
    "        # while 이 끝난 그자리 (parentIdx) 가 맨 밑에서 올라왔던 lastData 가 위치할 자리\n",
    "        self.arr[parentIdx] = lastData\n",
    "        self.arr.pop()  # 마지막 데이터 삭제\n",
    "        self.size -= 1\n",
    "        \n",
    "        return retData   # 최초에 뽑아낸 루트 데이터 리턴\n",
    "    \n",
    "    \n",
    "    "
   ]
  },
  {
   "cell_type": "code",
   "execution_count": 36,
   "metadata": {},
   "outputs": [],
   "source": [
    "# 비교함수 준비\n",
    "# comp(d1, d2) : d1 이 크면 양수,   d2 가 크면 음수 리턴\n",
    "\n",
    "def myCompare(d1, d2):\n",
    "    #return d1 - d2  # max-heap\n",
    "    return d2 - d1   # min-heap\n"
   ]
  },
  {
   "cell_type": "code",
   "execution_count": 11,
   "metadata": {},
   "outputs": [],
   "source": [
    "heap = Heap(myCompare)"
   ]
  },
  {
   "cell_type": "code",
   "execution_count": 12,
   "metadata": {},
   "outputs": [
    {
     "data": {
      "text/plain": [
       "([None], 1)"
      ]
     },
     "execution_count": 12,
     "metadata": {},
     "output_type": "execute_result"
    }
   ],
   "source": [
    "heap.arr, len(heap.arr)"
   ]
  },
  {
   "cell_type": "code",
   "execution_count": 13,
   "metadata": {},
   "outputs": [
    {
     "data": {
      "text/plain": [
       "([None, 5], 2)"
      ]
     },
     "execution_count": 13,
     "metadata": {},
     "output_type": "execute_result"
    }
   ],
   "source": [
    "heap.insert(5)\n",
    "heap.arr, len(heap.arr)"
   ]
  },
  {
   "cell_type": "code",
   "execution_count": 14,
   "metadata": {},
   "outputs": [
    {
     "data": {
      "text/plain": [
       "([None, 7, 5], 3)"
      ]
     },
     "execution_count": 14,
     "metadata": {},
     "output_type": "execute_result"
    }
   ],
   "source": [
    "heap.insert(7)\n",
    "heap.arr, len(heap.arr)"
   ]
  },
  {
   "cell_type": "code",
   "execution_count": 15,
   "metadata": {},
   "outputs": [
    {
     "data": {
      "text/plain": [
       "([None, 7, 5, 3], 4)"
      ]
     },
     "execution_count": 15,
     "metadata": {},
     "output_type": "execute_result"
    }
   ],
   "source": [
    "heap.insert(3)\n",
    "heap.arr, len(heap.arr)"
   ]
  },
  {
   "cell_type": "code",
   "execution_count": 16,
   "metadata": {},
   "outputs": [
    {
     "data": {
      "text/plain": [
       "([None, 10, 7, 3, 5], 5)"
      ]
     },
     "execution_count": 16,
     "metadata": {},
     "output_type": "execute_result"
    }
   ],
   "source": [
    "heap.insert(10)\n",
    "heap.arr, len(heap.arr)"
   ]
  },
  {
   "cell_type": "code",
   "execution_count": 37,
   "metadata": {},
   "outputs": [],
   "source": [
    "heap = Heap(myCompare)"
   ]
  },
  {
   "cell_type": "code",
   "execution_count": 38,
   "metadata": {},
   "outputs": [
    {
     "data": {
      "text/plain": [
       "[None, -3, 1, 10, 4, 10, 19, 32, 5, 6, 76]"
      ]
     },
     "execution_count": 38,
     "metadata": {},
     "output_type": "execute_result"
    }
   ],
   "source": [
    "for i in [5, 1, 19, 4, 10, 10, 32, -3, 6, 76]:\n",
    "    heap.insert(i)\n",
    "    \n",
    "heap.arr"
   ]
  },
  {
   "cell_type": "code",
   "execution_count": 39,
   "metadata": {},
   "outputs": [
    {
     "data": {
      "text/plain": [
       "(10, 11)"
      ]
     },
     "execution_count": 39,
     "metadata": {},
     "output_type": "execute_result"
    }
   ],
   "source": [
    "heap.size, len(heap.arr)"
   ]
  },
  {
   "cell_type": "code",
   "execution_count": 40,
   "metadata": {},
   "outputs": [
    {
     "name": "stdout",
     "output_type": "stream",
     "text": [
      "-3\n",
      "1\n",
      "4\n",
      "5\n",
      "6\n",
      "10\n",
      "10\n",
      "19\n",
      "32\n",
      "76\n"
     ]
    }
   ],
   "source": [
    "while True:\n",
    "    i = heap.delete()\n",
    "    if not i: break\n",
    "    print(i)"
   ]
  },
  {
   "cell_type": "code",
   "execution_count": null,
   "metadata": {},
   "outputs": [],
   "source": []
  },
  {
   "cell_type": "code",
   "execution_count": null,
   "metadata": {},
   "outputs": [],
   "source": []
  }
 ],
 "metadata": {
  "kernelspec": {
   "display_name": "Python 3",
   "language": "python",
   "name": "python3"
  },
  "language_info": {
   "codemirror_mode": {
    "name": "ipython",
    "version": 3
   },
   "file_extension": ".py",
   "mimetype": "text/x-python",
   "name": "python",
   "nbconvert_exporter": "python",
   "pygments_lexer": "ipython3",
   "version": "3.7.4"
  }
 },
 "nbformat": 4,
 "nbformat_minor": 2
}
