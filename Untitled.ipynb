{
 "cells": [
  {
   "cell_type": "markdown",
   "metadata": {},
   "source": [
    "# 네이버 실검"
   ]
  },
  {
   "cell_type": "code",
   "execution_count": 2,
   "metadata": {},
   "outputs": [],
   "source": [
    "\"\"\"\n",
    "\n",
    "2020.5 현재 \n",
    "검색어 필터 설정을 해주어야 한다\n",
    "\n",
    "개발자 도구-Network - XHR 필터링 한후 확인해보자.\n",
    "\n",
    "https://apis.naver.com/mobile_main/srchrank/srchrank?frm=main&ag=40s&gr=4&ma=2&si=2&en=2&sp=2\n",
    "\n",
    "https://apis.naver.com/mobile_main/srchrank/srchrank?frm=main\n",
    "&ag=40s\n",
    "&gr=4     묶어보기?\n",
    "&ma=2    이벤트할인?\n",
    "&si=2    시사?\n",
    "&en=2    엔터테인먼트?\n",
    "&sp=2    스포츠?\n",
    "\"\"\"\n",
    "None"
   ]
  },
  {
   "cell_type": "code",
   "execution_count": 3,
   "metadata": {},
   "outputs": [
    {
     "data": {
      "text/plain": [
       "['유현주',\n",
       " '진중권',\n",
       " '잠실 날씨',\n",
       " '이연희',\n",
       " '박지훈',\n",
       " '농협몰',\n",
       " '배선우',\n",
       " '밥블레스유 대창꼬치',\n",
       " '럭키 식당',\n",
       " '호랑이 선생님',\n",
       " '고성희',\n",
       " '굿걸',\n",
       " '스승의날 편지',\n",
       " '아내의 자격',\n",
       " '퀸 와사비',\n",
       " '뺑반',\n",
       " '버스터즈',\n",
       " '한명숙',\n",
       " '성분에디터',\n",
       " '한만호']"
      ]
     },
     "execution_count": 3,
     "metadata": {},
     "output_type": "execute_result"
    }
   ],
   "source": [
    "['유현주',\n",
    " '진중권',\n",
    " '잠실 날씨',\n",
    " '이연희',\n",
    " '박지훈',\n",
    " '농협몰',\n",
    " '배선우',\n",
    " '밥블레스유 대창꼬치',\n",
    " '럭키 식당',\n",
    " '호랑이 선생님',\n",
    " '고성희',\n",
    " '굿걸',\n",
    " '스승의날 편지',\n",
    " '아내의 자격',\n",
    " '퀸 와사비',\n",
    " '뺑반',\n",
    " '버스터즈',\n",
    " '한명숙',\n",
    " '성분에디터',\n",
    " '한만호']"
   ]
  },
  {
   "cell_type": "code",
   "execution_count": null,
   "metadata": {},
   "outputs": [],
   "source": []
  },
  {
   "cell_type": "code",
   "execution_count": null,
   "metadata": {},
   "outputs": [],
   "source": []
  }
 ],
 "metadata": {
  "kernelspec": {
   "display_name": "Python 3",
   "language": "python",
   "name": "python3"
  },
  "language_info": {
   "codemirror_mode": {
    "name": "ipython",
    "version": 3
   },
   "file_extension": ".py",
   "mimetype": "text/x-python",
   "name": "python",
   "nbconvert_exporter": "python",
   "pygments_lexer": "ipython3",
   "version": "3.7.4"
  }
 },
 "nbformat": 4,
 "nbformat_minor": 2
}
