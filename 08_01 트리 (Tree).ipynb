{
 "cells": [
  {
   "cell_type": "markdown",
   "metadata": {},
   "source": [
    "# 트리 (tree)\n",
    "계층적(Hierarchical Relationship) 관계를 표현하는 '비선형' 자료구조\n",
    "![트리](https://miro.medium.com/max/1354/1*Z89j_NoDx9HkFcPHy3rPZg.png)"
   ]
  },
  {
   "cell_type": "markdown",
   "metadata": {},
   "source": [
    "---\n",
    "## 트리의 개념\n",
    "1. 트리는 하나의 루트 노드를 갖는다.\n",
    "1. 루트 노드는 0개 이상의 자식 노드를 갖고 있다.\n",
    "1. 그 자식 노드 또한 0개 이상의 자식 노드를 갖고 있고, 이는 반복적으로 정의된다.\n",
    "\n",
    "\n",
    "![트리](https://miro.medium.com/max/1400/1*PWJiwTxRdQy8A_Y0hAv5Eg.png)"
   ]
  },
  {
   "cell_type": "markdown",
   "metadata": {},
   "source": [
    "---\n",
    "# 일상생활에서의 트리\n",
    "- 비선형 자료구조로 계층적 관계를 표현한다. \n",
    "    - ex) 디렉터리 구조, 조직도\n",
    "    \n",
    "<img src=\"http://it.ith.kr/chair/cgj/11_004s.jpg\" style=\"float:left;\">\n",
    "<img src=\"https://media.istockphoto.com/vectors/organization-chart-tree-corporate-hierarchy-vector-id872514960\" style=\"float:left; width:400px; height:auto; margin-left:100px\">"
   ]
  },
  {
   "cell_type": "markdown",
   "metadata": {},
   "source": [
    "---\n",
    "# 트리 응용 분야 (예)\n",
    "\n",
    "1. `Expression Tree (수식트리)`\n",
    "    1. 입력수식 평가 (evaluation)\n",
    "![Expression Tree](https://t1.daumcdn.net/cfile/tistory/99353F4B5C7FDE240A)\n",
    "\n",
    "---\n",
    "\n",
    "1. `HuffmanTree (허프만 트리)` \n",
    "    1. 압축알고리즘\n",
    "<img src=\"https://img1.daumcdn.net/thumb/R1280x0/?scode=mtistory2&fname=http%3A%2F%2Fcfile3.uf.tistory.com%2Fimage%2F99C5374F5C6168CC0C4CEE\" style=\"width:500px; height:auto\">\n",
    "\n",
    "---\n",
    "\n",
    "1. `의사결정 트리 (Decisiotn Tree)`\n",
    "    1. 머신러닝, 인공지능 분야\n",
    "    \n",
    "![의사결정트리](https://img1.daumcdn.net/thumb/R720x0.q80/?scode=mtistory2&fname=http%3A%2F%2Fcfile10.uf.tistory.com%2Fimage%2F9928D4335A262C6B1F5787)   \n",
    "\n",
    "---\n",
    "\n",
    "1. `최대힙, 최소힙 (max-heap, min-heap)`\n",
    "    1. 최대값 최소값 찾기 알고리즘\n",
    "    \n",
    "![최대최소힙](https://img1.daumcdn.net/thumb/R800x0/?scode=mtistory2&fname=https%3A%2F%2Fk.kakaocdn.net%2Fdn%2FbcEIgg%2FbtqwQlLYiDe%2FNDqjJXubdjz6G0FsKKv2D0%2Fimg.png)   \n",
    "\n",
    "---\n",
    "\n",
    "1. `Document Object Model (DOM)`\n",
    "    1. 웹 문서 (HTML, XML..)\n",
    "    \n",
    "![DOM](https://3.bp.blogspot.com/-mLiLwe3cDk8/W7CcLaBf14I/AAAAAAAALE8/bKlS0Z7YpYQ9SoSuYUjm1k68kE-e-9BmgCLcBGAs/s400/javaScript%2BDOM.png)"
   ]
  },
  {
   "cell_type": "markdown",
   "metadata": {},
   "source": [
    "# 트리 용어\n",
    "- 루트 노드(root node): 부모가 없는 노드, 트리는 하나의 루트 노드만을 가진다.\n",
    "- 단말 노드(leaf node): 자식이 없는 노드, ‘말단 노드’ 또는 ‘잎 노드’라고도 부른다.\n",
    "- 내부(internal) 노드: 단말 노드가 아닌 노드\n",
    "- 간선(edge): 노드를 연결하는 선 (link, branch 라고도 부름)\n",
    "- 형제(sibling): 같은 부모를 가지는 노드\n",
    "- 노드의 크기(size): 자신을 포함한 모든 자손 노드의 개수\n",
    "\n",
    "![트리](https://miro.medium.com/max/1400/1*PWJiwTxRdQy8A_Y0hAv5Eg.png)\n",
    "![internal, leaf](https://qph.fs.quoracdn.net/main-qimg-59c7c577e1ea252a4c7f3fbd2ef113f6)\n",
    "\n",
    "\n",
    "\n",
    "- 노드의 깊이(depth): 루트에서 어떤 노드에 도달하기 위해 거쳐야 하는 간선의 수\n",
    "- 트리의 높이(height):  한 노드와 단말 노드 사이의 최대 깊이\n",
    "![depth&height](https://www.interviewcake.com/images/svgs/trees__depth_height.svg?bust=206)\n",
    "\n",
    "- 노드의 레벨(level): 트리의 특정 깊이를 가지는 노드의 집합\n",
    "![level](https://www.tutorialride.com/images/data-structures/levels-of-tree.jpeg)\n",
    "\n",
    "- 노드의 차수(degree): 하위 트리 개수 / 간선 수 (degree) = 각 노드가 지닌 가지의 수\n",
    "- 트리의 차수(degree of tree): 트리의 최대 차수\n",
    "![degree](https://www.avatto.com/a1/data-structures/tree5.png)\n",
    "\n",
    "\n",
    "- 서브트리(subtree)\n",
    "![subtree](https://madplay.github.io/img/post/2018-04-30-binary-search-tree-1.jpg)\n",
    "\n",
    "\n",
    "- path 경로 : 한 노드 (부모) 에서 다른 노드(자식) 에 이르는 노드들의 순서"
   ]
  },
  {
   "cell_type": "code",
   "execution_count": null,
   "metadata": {},
   "outputs": [],
   "source": []
  },
  {
   "cell_type": "code",
   "execution_count": null,
   "metadata": {},
   "outputs": [],
   "source": []
  },
  {
   "cell_type": "code",
   "execution_count": null,
   "metadata": {},
   "outputs": [],
   "source": []
  },
  {
   "cell_type": "code",
   "execution_count": null,
   "metadata": {},
   "outputs": [],
   "source": []
  },
  {
   "cell_type": "code",
   "execution_count": null,
   "metadata": {},
   "outputs": [],
   "source": []
  },
  {
   "cell_type": "code",
   "execution_count": null,
   "metadata": {},
   "outputs": [],
   "source": []
  },
  {
   "cell_type": "code",
   "execution_count": null,
   "metadata": {},
   "outputs": [],
   "source": []
  },
  {
   "cell_type": "code",
   "execution_count": null,
   "metadata": {},
   "outputs": [],
   "source": []
  }
 ],
 "metadata": {
  "kernelspec": {
   "display_name": "Python 3",
   "language": "python",
   "name": "python3"
  },
  "language_info": {
   "codemirror_mode": {
    "name": "ipython",
    "version": 3
   },
   "file_extension": ".py",
   "mimetype": "text/x-python",
   "name": "python",
   "nbconvert_exporter": "python",
   "pygments_lexer": "ipython3",
   "version": "3.7.4"
  }
 },
 "nbformat": 4,
 "nbformat_minor": 2
}
