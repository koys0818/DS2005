{
 "cells": [
  {
   "cell_type": "markdown",
   "metadata": {},
   "source": [
    "# 큐 (Queue)"
   ]
  },
  {
   "cell_type": "markdown",
   "metadata": {},
   "source": [
    "1. 데이터가 들어온 순서대로 추출 됨\n",
    "2. `FIFO`(First-In First-Out, 선입선출 구조) 먼저 들어온 데어터가 먼저 추출됨"
   ]
  },
  {
   "cell_type": "markdown",
   "metadata": {},
   "source": [
    "<img src=\"https://miro.medium.com/proxy/0*TRbfsq86lqDoqW6b.png\" style=\"float:left; width:450px; height:auto\">"
   ]
  },
  {
   "cell_type": "markdown",
   "metadata": {},
   "source": [
    "# 일상생활에서의 큐\n",
    "<img src=\"https://amudabadmus.files.wordpress.com/2017/04/queue-2012-12-11.jpg?w=800\" style=\"float:left; width:400px; height:auto\">"
   ]
  },
  {
   "cell_type": "markdown",
   "metadata": {},
   "source": [
    "## queue 의 ADT (추상 데이터 타입) \n",
    "큐의 동작들\n",
    "- `enqueue` : 큐 뒤쪽에 데이터 삽입\n",
    "- `dequeue` : 큐 앞쪽의 데이터 리턴하고, 제거\n",
    "- `peek/front` : 큐 앞쪽의 항목을 조회\n",
    "- `empty` : 큐가 비어있는지 확인\n",
    "- `size` : 큐 크기 (데이터 개수) 확인"
   ]
  },
  {
   "cell_type": "markdown",
   "metadata": {},
   "source": [
    "# Node 를 사용한 큐 구현"
   ]
  },
  {
   "cell_type": "code",
   "execution_count": 1,
   "metadata": {},
   "outputs": [],
   "source": [
    "class Node(object):\n",
    "    def __init__(self, value=None, pointer=None):\n",
    "        self.value = value\n",
    "        self.pointer = pointer"
   ]
  },
  {
   "cell_type": "code",
   "execution_count": 13,
   "metadata": {},
   "outputs": [],
   "source": [
    "class LinkedQueue(object):\n",
    "    def __init__(self):\n",
    "        self.head = None   # front\n",
    "        self.tail = None   # back\n",
    "        self.count = 0     # 데이터 개수\n",
    "        \n",
    "    def isEmpty(self):\n",
    "        return not bool(self.head)\n",
    "    \n",
    "    def enqueue(self, value):\n",
    "        newNode = Node(value)\n",
    "        if not self.head:   # 첫 데이터 인 경우\n",
    "            self.head = newNode\n",
    "            self.tail = newNode\n",
    "            self.count = 1\n",
    "        else:\n",
    "            # tail 에 새로운 데이터 추가해 나감\n",
    "            if self.tail:\n",
    "                self.tail.pointer = newNode # tail 뒤에 newNode 붙이기\n",
    "            self.tail = newNode  # tail 이동\n",
    "            self.count += 1   # 데이터 개수 +1 증가\n",
    "            \n",
    "    def size(self):\n",
    "        return self.count\n",
    "    \n",
    "    def dequeue(self):\n",
    "        if self.head:  # head 노드가 dequeue 된다.\n",
    "            value = self.head.value\n",
    "            \n",
    "            self.head = self.head.pointer # head 이동\n",
    "            self.count -= 1   # 데이터 -1 감소 \n",
    "            \n",
    "            return value\n",
    "        else:\n",
    "            print(\"큐가 비어있습니다\")\n",
    "            return None\n",
    "        \n",
    "    def peek(self):\n",
    "        if self.head:\n",
    "            return self.head.value\n",
    "        \n",
    "    def _print(self):\n",
    "        node = self.head\n",
    "        while node:\n",
    "            print(node.value, end=\" \")\n",
    "            node = node.pointer\n",
    "        print()"
   ]
  },
  {
   "cell_type": "code",
   "execution_count": 12,
   "metadata": {},
   "outputs": [
    {
     "name": "stdout",
     "output_type": "stream",
     "text": [
      "큐가 비어있나? True\n",
      "0 1 2 3 4 5 6 7 8 9 \n",
      "큐의 크기 9\n",
      "peek() 0\n",
      "dequeue() 0\n",
      "dequeue() 1\n",
      "dequeue() 2\n",
      "3 4 5 6 7 8 9 \n"
     ]
    }
   ],
   "source": [
    "q = LinkedQueue()\n",
    "print('큐가 비어있나?', q.isEmpty())\n",
    "for i in range(10):\n",
    "    q.enqueue(i)\n",
    "q._print()\n",
    "print('큐의 크기', q.size())\n",
    "print('peek()', q.peek())\n",
    "print('dequeue()', q.dequeue())\n",
    "print('dequeue()', q.dequeue())\n",
    "print('dequeue()', q.dequeue())\n",
    "q._print()"
   ]
  },
  {
   "cell_type": "code",
   "execution_count": null,
   "metadata": {},
   "outputs": [],
   "source": []
  },
  {
   "cell_type": "code",
   "execution_count": null,
   "metadata": {},
   "outputs": [],
   "source": []
  },
  {
   "cell_type": "code",
   "execution_count": null,
   "metadata": {},
   "outputs": [],
   "source": []
  },
  {
   "cell_type": "code",
   "execution_count": null,
   "metadata": {},
   "outputs": [],
   "source": []
  },
  {
   "cell_type": "code",
   "execution_count": null,
   "metadata": {},
   "outputs": [],
   "source": []
  }
 ],
 "metadata": {
  "kernelspec": {
   "display_name": "Python 3",
   "language": "python",
   "name": "python3"
  },
  "language_info": {
   "codemirror_mode": {
    "name": "ipython",
    "version": 3
   },
   "file_extension": ".py",
   "mimetype": "text/x-python",
   "name": "python",
   "nbconvert_exporter": "python",
   "pygments_lexer": "ipython3",
   "version": "3.7.4"
  }
 },
 "nbformat": 4,
 "nbformat_minor": 2
}
