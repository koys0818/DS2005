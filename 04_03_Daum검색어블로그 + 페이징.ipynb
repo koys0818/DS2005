{
 "cells": [
  {
   "cell_type": "markdown",
   "metadata": {},
   "source": [
    "# 페이징 url 분석"
   ]
  },
  {
   "cell_type": "code",
   "execution_count": 1,
   "metadata": {},
   "outputs": [],
   "source": [
    "\"\"\"\n",
    "https://search.daum.net/search\n",
    "?\n",
    "w=blog&\n",
    "DA=PGD&\n",
    "enc=utf8&\n",
    "q=%EC%BD%94%EB%A1%9C%EB%82%98&\n",
    "page=3\n",
    "\"\"\"\n",
    "None\n",
    "\n",
    "# page= <-- 동작하는지 확인"
   ]
  },
  {
   "cell_type": "code",
   "execution_count": 2,
   "metadata": {},
   "outputs": [],
   "source": [
    "import requests\n",
    "from bs4 import BeautifulSoup\n",
    "import urllib.parse as urlparser"
   ]
  },
  {
   "cell_type": "code",
   "execution_count": 3,
   "metadata": {},
   "outputs": [
    {
     "name": "stdout",
     "output_type": "stream",
     "text": [
      "https://search.daum.net/search?w=blog&DA=PGD&enc=utf8&q=%ED%8C%8C%EC%9D%B4%EC%8D%AC&page=10\n"
     ]
    }
   ],
   "source": [
    "def crawl_daum_blog(keyword, page = 1):\n",
    "    keyword = urlparser.quote(keyword)\n",
    "    url = \"https://search.daum.net/search?w=blog&DA=PGD&enc=utf8&q={search}&page={page}\".format(search=keyword, page=page)\n",
    "\n",
    "    print(url)\n",
    "    \n",
    "crawl_daum_blog('파이썬', 10)\n",
    "    "
   ]
  },
  {
   "cell_type": "code",
   "execution_count": 7,
   "metadata": {},
   "outputs": [],
   "source": [
    "def crawl_daum_blog(keyword, page = 1):\n",
    "    print(page, '페이지 크롤링중...')\n",
    "    keyword = urlparser.quote(keyword)\n",
    "    url = \"https://search.daum.net/search?w=blog&DA=PGD&enc=utf8&q={search}&page={page}\".format(search=keyword, page=page)\n",
    "\n",
    "    response = requests.get(url)\n",
    "    dom = BeautifulSoup(response.text, \"html.parser\")\n",
    "    item_list = dom.select(\"div#blogColl .coll_cont ul.list_info li\")\n",
    "\n",
    "    result = [\n",
    "        {\n",
    "            \"post_title\" : item.select_one(\".f_link_b\").text.strip()\n",
    "            , \"blog_title\" : item.select_one(\".info .f_nb\").text.strip()\n",
    "        }\n",
    "        for item in item_list\n",
    "    ]   \n",
    "    \n",
    "    return result  # list 리턴"
   ]
  },
  {
   "cell_type": "code",
   "execution_count": 6,
   "metadata": {},
   "outputs": [
    {
     "data": {
      "text/plain": [
       "[{'post_title': '트럼프 허풍발언?', 'blog_title': '해피 피오나'},\n",
       " {'post_title': '[정보] 트럼프 역대 마누라에 대해 알아보자.', 'blog_title': '기록보관소'},\n",
       " {'post_title': '[DB]트럼프도모른다:미 국방부 UFO 영상 공개이유', 'blog_title': 'DB연예닷컴'},\n",
       " {'post_title': '북한, 트럼프 대통령에게 편지 보낸적 없다며 반박', 'blog_title': 'lopics'},\n",
       " {'post_title': '트럼프의 아메리칸 퍼스트 그리고 오바마', 'blog_title': '세상살이'},\n",
       " {'post_title': \"도널드 트럼프의 '사회주의 비판'\", 'blog_title': '카프란의 라이트 전진...'},\n",
       " {'post_title': '클로로퀸과 트럼프(코로나19)', 'blog_title': 'Impact Factor'},\n",
       " {'post_title': \"트럼프 대통령 중국 관계 끊는다 '코로나19 중국 책임론'\", 'blog_title': '홍길동'},\n",
       " {'post_title': '트럼프의 뉴노멀 계획은? (feat. 코로나 바이러스)', 'blog_title': '머니랩스'},\n",
       " {'post_title': '감염이없는 것에 대한 트럼프 논쟁', 'blog_title': '뉴스티스토리'}]"
      ]
     },
     "execution_count": 6,
     "metadata": {},
     "output_type": "execute_result"
    }
   ],
   "source": [
    "crawl_daum_blog('트럼프', 7)"
   ]
  },
  {
   "cell_type": "code",
   "execution_count": 8,
   "metadata": {},
   "outputs": [
    {
     "name": "stdout",
     "output_type": "stream",
     "text": [
      "1 페이지 크롤링중...\n",
      "2 페이지 크롤링중...\n",
      "3 페이지 크롤링중...\n",
      "4 페이지 크롤링중...\n",
      "5 페이지 크롤링중...\n",
      "6 페이지 크롤링중...\n",
      "7 페이지 크롤링중...\n",
      "8 페이지 크롤링중...\n",
      "9 페이지 크롤링중...\n",
      "10 페이지 크롤링중...\n",
      "[{'post_title': '[밑바닥] 1. 헬로 파이썬', 'blog_title': \"Rookie's Programming\"}, {'post_title': '이클립스 파이썬 개발환경 설정하기!', 'blog_title': '마이자몽'}, {'post_title': '파이썬프로그래밍 파이썬 입문', 'blog_title': 'ITPLE과 함께하는 신...'}, {'post_title': '[파이썬] 아나콘다 설치 하기!', 'blog_title': '세상에 발자취를 남기...'}, {'post_title': '파이썬 프로그래밍 인강으로 시작하자', 'blog_title': '영쌤의 티스토리'}, {'post_title': '[Python] 파이썬의 변수, 상수', 'blog_title': '화장품 이야기'}, {'post_title': '파이썬 설치 방법', 'blog_title': '배워서 남주자'}, {'post_title': '[Python] 파이썬 기본 문법', 'blog_title': '컴퓨터공학,  통계학,...'}, {'post_title': '파이썬 무작정 독학하기 : 기본설치', 'blog_title': '이슈포인트'}, {'post_title': '[파이썬] Jupyter notebook 사용방법', 'blog_title': 'python_analysis'}, {'post_title': 'XGBoost 실습 - 파이썬 래퍼 -', 'blog_title': '공부합시다요!'}, {'post_title': 'Python : 파이썬 Bookmark 만들기', 'blog_title': 'EMDI는 지금도 개발중'}, {'post_title': '파이썬 - Numpy', 'blog_title': 'Truman Show'}, {'post_title': 'python #1 - IDE 툴 + 파이썬', 'blog_title': \"jun's programming\"}, {'post_title': '파이썬 기초 개념 정리', 'blog_title': 'Easy Develop'}, {'post_title': '파이썬 Sequence 자료형 이해하기 1', 'blog_title': 'ITPLE과 함께하는 신...'}, {'post_title': '이클립스(Eclipse)에서 파이썬(Python) 설치', 'blog_title': '지식을 나누자'}, {'post_title': 'MacBook 파이썬 설치하기', 'blog_title': '데이터코딩반 1기'}, {'post_title': '노량진파이썬학원, 프로그래밍 공부 기초부터 배워요!', 'blog_title': 'IT미니쌤'}, {'post_title': 'KoNLPy (파이썬 한글 형태소 분석기 ) 윈도우 설치 방법', 'blog_title': 'Live Your IT'}, {'post_title': '파이썬장단점, 파이썬 언어가 주목받는 이유', 'blog_title': '혁신하는 기술 IT정보...'}, {'post_title': 'Python학원, 파이썬(Python) 프로그래밍 집중 교육', 'blog_title': '혁신하는 기술 IT정보...'}, {'post_title': '13. 파이썬 함수', 'blog_title': '명문 올림피아드 컴퓨...'}, {'post_title': '00. 터치디자이너 파이썬 시작하기', 'blog_title': 'caLAB'}, {'post_title': '파이썬 설치', 'blog_title': '지금 이 순간을 살아...'}, {'post_title': '프로그래밍, 파이썬으로 시작해보자!! 「인천파이썬학원」', 'blog_title': 'ARTES'}, {'post_title': '파이썬 변수', 'blog_title': 'Python World'}, {'post_title': '[PYTHON :: 파이썬 기초] 조건문과 반복문', 'blog_title': '소피의데이터'}, {'post_title': '아톰 에디터에서 파이썬 컴파일 실행하기', 'blog_title': '세상에 발자취를 남기...'}, {'post_title': '파이썬 무료독학 방법', 'blog_title': '\"Hello_World!\"'}, {'post_title': '파이썬 다운로드', 'blog_title': '미소네'}, {'post_title': '마이크로비트로 배우는 파이썬', 'blog_title': 'Bright'}, {'post_title': '파이썬을 들어가기 앞서', 'blog_title': '지식을 나누자'}, {'post_title': '파이썬 설치하기', 'blog_title': '주원이의 일상'}, {'post_title': '파이썬으로 디스코드 봇 제작하기(0) - 시작', 'blog_title': 'UNKNOWN'}, {'post_title': '파이썬 모듈', 'blog_title': 'Bubble Guppies'}, {'post_title': '[IT정보] 파이썬 독학 가능할까?', 'blog_title': '인문학과 IT 그리고 ...'}, {'post_title': '파이썬 아나콘다 - 크롤링, 딥러닝 첫걸음', 'blog_title': '잠밥탱이의 토킹 어바...'}, {'post_title': '1.파이썬 설치 및 특징', 'blog_title': '안녕, 세상!'}, {'post_title': '[Python]파이참 설치 / PyCharm 설치 / 파이썬 IDE / 파이썬 에디터', 'blog_title': \"Manniz's LIFE\"}, {'post_title': '[파이썬 기초 #1] Python 설치하기 (feat. Anaconda)', 'blog_title': '포푸리의 지식 스토리'}, {'post_title': '10. 파이썬 리스트', 'blog_title': '명문 올림피아드 컴퓨...'}, {'post_title': '파이썬 함수 코드 스타일 PEP20 - 1', 'blog_title': 'SIKALEO'}, {'post_title': '파이썬 주식 수익 알고리즘 #15', 'blog_title': 'The DataBase that i ...'}, {'post_title': 'Python_B001_파이썬 설치', 'blog_title': \"Yoon's\"}, {'post_title': 'Python (파이썬) Matplotlib, Seaborn 시각화', 'blog_title': '좋은 개발자가 되자'}, {'post_title': '파이썬 ( Python) 이란? 장단점도 알아보아요', 'blog_title': '윈썸지니의 별책부록'}, {'post_title': '아나콘다를 설치해보자! - 파이썬 데이터분석', 'blog_title': '일을 즐기는 자'}, {'post_title': '[파이썬강좌] 파이썬이란??', 'blog_title': '주원이의 일상'}, {'post_title': '파이썬 에디터는 어떤걸로?', 'blog_title': 'ESS R&D (Embedded se...'}, {'post_title': '파이썬 장고 (Django)', 'blog_title': '유용한 정보 공유소'}, {'post_title': '파이썬 아나콘다(Anaconda) 설치하기', 'blog_title': '봉식이와 캔따개'}, {'post_title': '파이썬 아나콘다 설치 및 주피터 노트북', 'blog_title': 'gapsoo life blog'}, {'post_title': '파이썬, 아톰 다운로드 - 설치하기 (시작이 반이다)', 'blog_title': '놀고싶은 영혼의 기록...'}, {'post_title': '파이썬 (Python) 형태소 분석기 KoNLPy 설치방법', 'blog_title': '문과생주디의 데이터 ...'}, {'post_title': '파이썬 - 소개, 설치, 시작', 'blog_title': 'Hokey'}, {'post_title': '[파이썬] K-MOOC 강좌로 기초 다지기', 'blog_title': '척척 석사가 되고 싶...'}, {'post_title': '파이썬 초급5 (문자열2 - 자료형)', 'blog_title': 'No Operation'}, {'post_title': '[앤써북] - 마이크로비트로 배우는 파이썬', 'blog_title': '해인코딩 티스토리'}, {'post_title': '파이썬 데이터 분석 범죄 데이터 실습', 'blog_title': 'The DataBase that i ...'}, {'post_title': '데이터사이언스 - 아나콘다 설치 - 파이썬 설치는 덤!', 'blog_title': '오늘을 살자'}, {'post_title': '[python] 파이썬 크롤링 (네이버 실시간 검색어)', 'blog_title': '개발자 지망생'}, {'post_title': '파이썬이란?', 'blog_title': \"BK's 파이썬 공부하기\"}, {'post_title': '파이썬 String', 'blog_title': 'Python World'}, {'post_title': '파이썬과 C++ 차이점 정리', 'blog_title': '에움길'}, {'post_title': '5. 파이썬 알아보기 (Feat. Life is short)', 'blog_title': '자꿈두'}, {'post_title': '파이썬 독학 입문 - 변수, 타입 ,조건문, 함수\\u200b', 'blog_title': '리얼커플 행복찾기'}, {'post_title': '프로그래밍 언어, 파이썬의 역사', 'blog_title': '국제 뉴스와 리뷰!'}, {'post_title': '[Python] Python Tutorial(파이썬 입문)', 'blog_title': 'swk의 지식저장소'}, {'post_title': '[Python] 파이썬 설치하기', 'blog_title': '컴퓨터공학,  통계학,...'}, {'post_title': '파이썬으로 쿠팡 로그인', 'blog_title': '박범준'}, {'post_title': '파이썬 다운로드', 'blog_title': 'pica'}, {'post_title': '[Python] 파이썬 설치 방법', 'blog_title': '보통사람'}, {'post_title': '파이썬 PIP 사용법 및 패키지 설치 방법', 'blog_title': '윈썸지니의 별책부록'}, {'post_title': '파이썬 시작, 백준 16561 파이썬 풀이', 'blog_title': 'Wonny'}, {'post_title': '파이썬을 통한 업무 자동화 관련 자료', 'blog_title': 'Data Analysis'}, {'post_title': 'Python (파이썬) inplace (.rename)', 'blog_title': '좋은 개발자가 되자'}, {'post_title': '코딩기초부터 잡아나가는 첫 파이썬! 코딩교육은 걱정노노~', 'blog_title': '사월愛핀꽃'}, {'post_title': '01. 파이썬 출력함수', 'blog_title': '그래도 히릿'}, {'post_title': '파이썬 & 파이참 Download & 설치', 'blog_title': 'Dream To Be A Langua...'}, {'post_title': '파이썬 설치 완벽 가이드', 'blog_title': '아니 왜 우리집만 고...'}, {'post_title': '빅데이터시대 세상을 바꾼 파이썬 라이브러리들', 'blog_title': '루나'}, {'post_title': 'Python(파이썬)이란?', 'blog_title': '행복한 상상'}, {'post_title': '파이썬 라이브러리 사용법', 'blog_title': '경험을 기록하는 사람'}, {'post_title': '[Python]파이썬 3 설치방법', 'blog_title': '시간날 때 하는 블로...'}, {'post_title': '파이썬(Python) 간편 설치 방법 다운로드', 'blog_title': '알록달록무지개 이것...'}, {'post_title': '파이썬 리스트 관련 메소드', 'blog_title': '박범준'}, {'post_title': '[점프 투 파이썬]01. 파이썬이란?', 'blog_title': '삥수의 설계'}, {'post_title': '파이썬 데이터사이언스 핸드북 2장 - Numpy 소개', 'blog_title': 'IT 공부중'}, {'post_title': '파이썬(Python) - 한글 형태소 분석', 'blog_title': 'Truman Show'}, {'post_title': '파이썬으로 배우는 딥러닝 교과서', 'blog_title': 'http://jh4hj.tistory...'}, {'post_title': '요새 뜨는 프로그램 언어 파이썬(Python) 왜 요새 뜰까요?', 'blog_title': '햄쭈와 얌찌의 난장판'}, {'post_title': '파이썬으로 이항분포 옵션 평가(CRR) 모델 만들기', 'blog_title': '파이썬을 활용한 재무...'}, {'post_title': '강남파이썬학원, 기초과정 1달만에 끝내기', 'blog_title': 'IT미니쌤'}, {'post_title': '파이썬 결측치 처리', 'blog_title': '독학 매니아'}, {'post_title': '파이썬 배우기 - 처음', 'blog_title': '나바의 IOT 라이프'}, {'post_title': '파이썬 판다스(pandas)를 만들다', 'blog_title': '홍창수'}, {'post_title': '누구나 파이썬 -3 (연산자, if, for)', 'blog_title': 'DEV KOBOSO'}, {'post_title': '실전! 초보를 위한 디스코드 봇 개발 with 파이썬 (1) - 소개와 준비', 'blog_title': \"ArpaAP's Blog\"}, {'post_title': '[파이썬 IDE] PyCharm(파이참) 설치 하기!', 'blog_title': '황시나의 개발새발개...'}]\n"
     ]
    }
   ],
   "source": [
    "# 1 ~ 10 페이지 분량만 크롤링 하기\n",
    "result = []\n",
    "page = 1\n",
    "while True:\n",
    "    if page > 10: break\n",
    "    result += crawl_daum_blog('파이썬', page)\n",
    "    page += 1\n",
    "    \n",
    "print(result)"
   ]
  },
  {
   "cell_type": "markdown",
   "metadata": {},
   "source": [
    "# 완성 코드"
   ]
  },
  {
   "cell_type": "code",
   "execution_count": 9,
   "metadata": {},
   "outputs": [
    {
     "name": "stdout",
     "output_type": "stream",
     "text": [
      "검색어 입력: 트럼프\n",
      "1 페이지 크롤링중...\n",
      "2 페이지 크롤링중...\n",
      "3 페이지 크롤링중...\n",
      "4 페이지 크롤링중...\n",
      "5 페이지 크롤링중...\n",
      "6 페이지 크롤링중...\n",
      "7 페이지 크롤링중...\n",
      "8 페이지 크롤링중...\n",
      "9 페이지 크롤링중...\n",
      "10 페이지 크롤링중...\n",
      "[{'post_title': '트럼프 막내아들 키 나이 근황', 'blog_title': '베트남공부'}, {'post_title': '트럼프 현금보조', 'blog_title': '강민블로그'}, {'post_title': '트럼프 가족', 'blog_title': '세상이야기 옹달샘'}, {'post_title': '김정은 사망설 그리고 트럼프', 'blog_title': '이건주'}, {'post_title': '뻐꾸기 트럼프: 앵무새 아베', 'blog_title': 'Mekko오빠가 보는 세...'}, {'post_title': '김정은 트럼프 입장', 'blog_title': '무무'}, {'post_title': '미국 대선 트럼프 vs 오바마 대혈투!', 'blog_title': '이케멘보이의 종합 컨...'}, {'post_title': '트럼프 WHO 자금지원 중단', 'blog_title': 'Jun’s Daily'}, {'post_title': '하이드록시 클로로퀸 트럼프 부작용 코로나', 'blog_title': '월드뷰뷰'}, {'post_title': '트럼프 살균제 발언 논란', 'blog_title': '블로거'}, {'post_title': '트럼프 리스크', 'blog_title': '조기자닷컴'}, {'post_title': '트럼프 대통령, 중국과 모든 관계 끊을 수 있다', 'blog_title': 'splaps'}, {'post_title': '출판에 고민이 되는 이야기 - 트럼프 그리고 유대인', 'blog_title': '암흑투자계'}, {'post_title': '재생에너지 지원 정책, 트럼프 대통령 적의 표명', 'blog_title': 'Monochrome :)'}, {'post_title': '트럼프 코로나 대응 능력과 재선, 탄핵 가능성', 'blog_title': '세상만사에 대한 이런...'}, {'post_title': '트럼프 \"살균제 인체 주입\" 검토해보라 발언 역풍', 'blog_title': '주영스스'}, {'post_title': '청와대, 트럼프 대통령 발언 즉각 반박', 'blog_title': 'splaps'}, {'post_title': '오바마 vs 트럼프 / 중국 vs 트럼프', 'blog_title': 'Siempre Claro'}, {'post_title': '트럼프 대통령, 살균제 인체 주입 발언으로 독극물 사고 증가 !', 'blog_title': 'HE STORY'}, {'post_title': '중국대사관 트럼프 조롱만화', 'blog_title': 'BossMom'}, {'post_title': '트럼프 WHO 자금지원 중단', 'blog_title': '다이슈'}, {'post_title': '트럼프 코로나바이러스 중국 처벌 계획 세운다.', 'blog_title': 'Seven Days'}, {'post_title': '코로나 바이러스에 의해 구겨진 트럼프의 전략', 'blog_title': '브케인'}, {'post_title': '트럼프 게임을 영화로(넷플릭스 : 써클)', 'blog_title': '느린 삶이 좋은 지구...'}, {'post_title': '트럼프 골프장 아래, 랜초 PV의 숨은 보석 - 선라이즈 트레일', 'blog_title': '캘리홀릭'}, {'post_title': '트럼프와 푸틴의 유가 전쟁 내막은 무엇일까??', 'blog_title': '지식의 보물창고'}, {'post_title': '트럼프와 파우치의 코로나 동상이몽', 'blog_title': '바이런베이의 이런 저...'}, {'post_title': '트럼프, 미 영주권 발급 60일간 중단', 'blog_title': 'Jun’s Daily'}, {'post_title': '오바마의 버럭 “트럼프 맹비난”', 'blog_title': '세상 유익한 정보 안...'}, {'post_title': '트럼프 살균제 소독제 발언 비난 기자회견', 'blog_title': 'Seven Days'}, {'post_title': '주류 언론 무력화시킨 트럼프', 'blog_title': '조기자닷컴'}, {'post_title': '트럼프 공장방문 죽게 내버려둬', 'blog_title': '건강한마을'}, {'post_title': '[정보] 트럼프 역대 마누라에 대해 알아보자.', 'blog_title': '이슈메이커'}, {'post_title': '\"미국인 죽더라도 경제재개\"…트럼프 밀어붙이자 유가 20%↑', 'blog_title': '(주)하이소프트 증권 ...'}, {'post_title': '도널드 트럼프, 바이러스 발생에 대한 발언', 'blog_title': '써니리뷰'}, {'post_title': '정치질하는 트럼프', 'blog_title': '주린이 성장일기'}, {'post_title': '뉴욕 살균제 사고 트럼프 리스크 안타까운 이유', 'blog_title': 'Social and Media'}, {'post_title': 'Obica+트럼프 타워+Dominique Ansel Bakery', 'blog_title': '♡선주엄마 블로그♥'}, {'post_title': '백악관 무슨일이 있나요? 이방카 트럼프 비서까지 코로나 확진?', 'blog_title': '구밀리'}, {'post_title': '미국 대선 경쟁 ; 트럼프와 바이든 요소 분석', 'blog_title': 'E Han Raphael'}, {'post_title': '트럼프 코로나 대응 망언들: 지도자의 중요성', 'blog_title': '보리킴'}, {'post_title': '트럼프', 'blog_title': '오르나르'}, {'post_title': '트럼프, 어디 까지 할 것인가?', 'blog_title': '부자 아빠c 미국주식 ...'}, {'post_title': '2020 미국 대선 날짜 및 트럼프 임기 알아보기', 'blog_title': \"치치패피's Family\"}, {'post_title': '웨이보 실검1위, 트럼프 중국 여기자 코로나 질문에 \"ask china\"', 'blog_title': '알리바바 타오바오 완...'}, {'post_title': '코로나 구충제 이버멕틴 / 트럼프 \" 우선 살리고 보자.\"', 'blog_title': 'Hug Mum blog'}, {'post_title': '트럼프 미중무역전쟁 다시 불붙이나', 'blog_title': '프로 N잡러 박대표'}, {'post_title': '트럼프와 부정선거', 'blog_title': '자유로운 블로그'}, {'post_title': '트럼프 미국 대통령의 코로나 19 대응', 'blog_title': '유에피'}, {'post_title': '[공지] 고양이 플레잉카드(트럼프) 사전예약 (모델묘 구해요)', 'blog_title': '다산 김다정선생'}, {'post_title': '(5.14) 어제는 파우치 오늘은 파월, 트럼프는 매일매일', 'blog_title': '스톡사진작가 sinsy ...'}, {'post_title': '트럼프의 화웨이 죽이기는 삼성전자에게 이득일까?', 'blog_title': '차이티 라이프'}, {'post_title': 'FDA 트럼프 반박', 'blog_title': '해피 피오나'}, {'post_title': \"'미중 무역전쟁' 재개 우려... 트럼프의 협상 전략 아닐까?\", 'blog_title': '재벌재벌 (ㅈㅂㅈㅂ)'}, {'post_title': '트럼프 “빈정대 본 것”', 'blog_title': 'Classical-Gas'}, {'post_title': '트럼프의 최후통첩,WHO 국제 협력 위기', 'blog_title': '비공식라인'}, {'post_title': '트럼프 미국 대통령 살균체 인체 주입 발언', 'blog_title': '글쓰는 프로그래머'}, {'post_title': '해운대 트럼프월드 이사청소', 'blog_title': '부산꼼꼬미 입주청소'}, {'post_title': '미 국무부총무는 트럼프가 발사한 최신감시', 'blog_title': '브케인'}, {'post_title': '오바마 음성파일 코로나19 트럼프 맹비난한 이유', 'blog_title': '셰에라자드의 이야기'}, {'post_title': '트럼프 허풍발언?', 'blog_title': '해피 피오나'}, {'post_title': '[정보] 트럼프 역대 마누라에 대해 알아보자.', 'blog_title': '기록보관소'}, {'post_title': '[DB]트럼프도모른다:미 국방부 UFO 영상 공개이유', 'blog_title': 'DB연예닷컴'}, {'post_title': '북한, 트럼프 대통령에게 편지 보낸적 없다며 반박', 'blog_title': 'lopics'}, {'post_title': '트럼프의 아메리칸 퍼스트 그리고 오바마', 'blog_title': '세상살이'}, {'post_title': \"도널드 트럼프의 '사회주의 비판'\", 'blog_title': '카프란의 라이트 전진...'}, {'post_title': '클로로퀸과 트럼프(코로나19)', 'blog_title': 'Impact Factor'}, {'post_title': \"트럼프 대통령 중국 관계 끊는다 '코로나19 중국 책임론'\", 'blog_title': '홍길동'}, {'post_title': '트럼프의 뉴노멀 계획은? (feat. 코로나 바이러스)', 'blog_title': '머니랩스'}, {'post_title': '감염이없는 것에 대한 트럼프 논쟁', 'blog_title': '뉴스티스토리'}, {'post_title': '코로나 19_트럼프와 파우치', 'blog_title': '김지수'}, {'post_title': '솔데스크 트럼프_중국과의 모든 관계 끓을 수 있다.과연 중국은?', 'blog_title': '순정마초 BG'}, {'post_title': '트럼프 인터내셜날 호텔 와이키키 비치워크 -2020환불 불가 프로모션', 'blog_title': 'joinhawaii님의 블로...'}, {'post_title': \"린다 트립 사망 / 트럼프 'WHO'에 자금 지원 보류\", 'blog_title': 'Hug Mum blog'}, {'post_title': '인체에 소독제 주입해서 코로나 바이러스 죽이자는 트럼프 대통령(2부)', 'blog_title': '끝없는 수다'}, {'post_title': '[비즈칼럼] 도널드 트럼프는 어떻게 돈을 벌었을까? (2)', 'blog_title': 'JUST SIMPLE THING'}, {'post_title': '트럼프의 무리수', 'blog_title': '중국운송 및 통관에 ...'}, {'post_title': '부산아파트경매 해운대 마린시티 트럼프월드마린 69평', 'blog_title': '명성경매법인 이원석...'}, {'post_title': '(4.27) 렘데시비르와 클로로퀸 그리고 살균제 (약장수 트럼프)', 'blog_title': '스톡사진작가 sinsy ...'}, {'post_title': '트럼프 대통령의 이유 있는 똘끼 - 냉전의 종식과 셰일가스 혁명', 'blog_title': 'Charles'}, {'post_title': '트럼프 살균제 발언 코로나 치료제 주입', 'blog_title': '파란하늘 블로그'}, {'post_title': '5/15 트럼프, 파월', 'blog_title': '날마다웃음의 살맛나...'}, {'post_title': '대우 트럼프 월드 수성 인테리어', 'blog_title': '박현미의 좋은집 찾기'}, {'post_title': '트럼프 백인계 인기 \"한물 가\"', 'blog_title': '진리와 사랑 (TLT)'}, {'post_title': '갈라파고스 미니 트럼프 카드', 'blog_title': 'The Puzzle'}, {'post_title': '멜라니아 트럼프', 'blog_title': '짤방더쿠'}, {'post_title': '트럼프의 대중 보복(국교단절)', 'blog_title': '한국 첨단 산업 채널'}, {'post_title': '미국 트럼프, Covid19 발원지는 우한연구소다. 증거있다.', 'blog_title': '빅쇼트의 세상'}, {'post_title': '트럼프 재선 가능한가 ?', 'blog_title': 'InfoOcean'}, {'post_title': '트럼프 \"코로나 바이러스는 진주만 공격보다 더하다\"비난', 'blog_title': '쉽게 말하는 영어'}, {'post_title': '미국의 대통령 도널드 트럼프의 방송 및 영화의 출연작', 'blog_title': '세상의 모든 물건 2.0'}, {'post_title': '부산해운대인테리어, 트럼프월드센텀이 호텔같은 공간으로~!', 'blog_title': '원포인트 인테리어디...'}, {'post_title': '스카프도 좋다 - 도널드 트럼프', 'blog_title': 'OceanRose'}, {'post_title': '결국 터지는 일본, 트럼프한테 대드는 WHO', 'blog_title': '역사문화라이브러리 H...'}, {'post_title': '도널드 트럼프 사주 분석 - 기미 일주', 'blog_title': '사주명리학 스크립트'}, {'post_title': '미국과 중국, 무역전쟁 다시 발발할까?(with 트럼프)', 'blog_title': '경제뉴스 읽어주는 청...'}, {'post_title': '어린이 괴질 알아볼까요? 괴질 뜻 관련주 미국 트럼프 논란', 'blog_title': '구밀리'}, {'post_title': '김동석 대표 : 백악관의 극우들과 트럼프의 재집권 전략', 'blog_title': '주옥같은 설레발'}, {'post_title': '트럼프 : WHO는 중국 꼭두각시', 'blog_title': '신lyric'}, {'post_title': '마이너스 금리되면 개인의 예금도 마이너스 되나?(feat. 트럼프)', 'blog_title': '스토리블럭'}]\n"
     ]
    }
   ],
   "source": [
    "import requests\n",
    "from bs4 import BeautifulSoup\n",
    "import urllib.parse as urlparser\n",
    "\n",
    "def crawl_daum_blog(keyword, page = 1):\n",
    "    print(page, '페이지 크롤링중...')\n",
    "    keyword = urlparser.quote(keyword)\n",
    "    url = \"https://search.daum.net/search?w=blog&DA=PGD&enc=utf8&q={search}&page={page}\".format(search=keyword, page=page)\n",
    "\n",
    "    response = requests.get(url)\n",
    "    dom = BeautifulSoup(response.text, \"html.parser\")\n",
    "    item_list = dom.select(\"div#blogColl .coll_cont ul.list_info li\")\n",
    "\n",
    "    result = [\n",
    "        {\n",
    "            \"post_title\" : item.select_one(\".f_link_b\").text.strip()\n",
    "            , \"blog_title\" : item.select_one(\".info .f_nb\").text.strip()\n",
    "        }\n",
    "        for item in item_list\n",
    "    ]   \n",
    "    \n",
    "    return result  # list 리턴\n",
    "\n",
    "\n",
    "keyword = input('검색어 입력: ')\n",
    "\n",
    "result = []\n",
    "page = 1\n",
    "while True:\n",
    "    if page > 10: break\n",
    "    result += crawl_daum_blog(keyword, page)\n",
    "    page += 1\n",
    "    \n",
    "print(result)\n"
   ]
  },
  {
   "cell_type": "code",
   "execution_count": null,
   "metadata": {},
   "outputs": [],
   "source": []
  },
  {
   "cell_type": "code",
   "execution_count": null,
   "metadata": {},
   "outputs": [],
   "source": []
  },
  {
   "cell_type": "code",
   "execution_count": null,
   "metadata": {},
   "outputs": [],
   "source": []
  },
  {
   "cell_type": "code",
   "execution_count": null,
   "metadata": {},
   "outputs": [],
   "source": []
  },
  {
   "cell_type": "code",
   "execution_count": null,
   "metadata": {},
   "outputs": [],
   "source": []
  }
 ],
 "metadata": {
  "kernelspec": {
   "display_name": "Python 3",
   "language": "python",
   "name": "python3"
  },
  "language_info": {
   "codemirror_mode": {
    "name": "ipython",
    "version": 3
   },
   "file_extension": ".py",
   "mimetype": "text/x-python",
   "name": "python",
   "nbconvert_exporter": "python",
   "pygments_lexer": "ipython3",
   "version": "3.7.4"
  }
 },
 "nbformat": 4,
 "nbformat_minor": 2
}
