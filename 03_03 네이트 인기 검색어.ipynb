{
 "cells": [
  {
   "cell_type": "markdown",
   "metadata": {},
   "source": [
    "### 연습: 네이트 인기 검색어"
   ]
  },
  {
   "cell_type": "code",
   "execution_count": 1,
   "metadata": {},
   "outputs": [],
   "source": [
    "\"\"\"\n",
    "[결과예]\n",
    "[\n",
    "    {'검색어': '민주당 압승', \n",
    "    'URL': 'https://search.daum.net/nate?w=tot&q=%EB%AF%BC%EC%A3%BC%EB%8B%B9+%EC%95%95%EC%8A%B9'\n",
    "    }, \n",
    "    {'검색어': '기부 동참', \n",
    "    'URL': 'https://search.daum.net/nate?w=tot&DA=NBZ&q=%ED%9B%84%EC%9B%90'\n",
    "    }, \n",
    "    {'검색어': '스마일라식', \n",
    "    'URL': 'https://search.daum.net/nate?w=tot&DA=NBZ&q=%EC%8A%A4%EB%A7%88%EC%9D%BC%EB%9D%BC%EC%8B%9D'\n",
    "    }, \n",
    "    {'검색어': '솔비 추모 그림', \n",
    "    'URL': 'https://search.daum.net/nate?w=tot&q=%EC%86%94%EB%B9%84+%EC%B6%94%EB%AA%A8+%EA%B7%B8%EB%A6%BC'\n",
    "    }, \n",
    "    {'검색어': '세월호 6주기', \n",
    "    'URL': 'https://search.daum.net/nate?w=tot&q=%EC%84%B8%EC%9B%94%ED%98%B8+6%EC%A3%BC%EA%B8%B0'\n",
    "    }\n",
    "]\n",
    "\"\"\"\n",
    "None"
   ]
  },
  {
   "cell_type": "code",
   "execution_count": 6,
   "metadata": {},
   "outputs": [
    {
     "name": "stdout",
     "output_type": "stream",
     "text": [
      "네이트 인기 검색어\n",
      "5\n",
      "[{'URL': 'https://search.daum.net/nate?w=tot&q=5+18+40%EC%A3%BC%EB%85%84',\n",
      "  '검색어': '5 18 40주년'},\n",
      " {'URL': 'https://search.daum.net/nate?w=tot&DA=NAD&q=%EC%B0%A8%EA%B0%80%EB%B2%84%EC%84%AF',\n",
      "  '검색어': '차가버섯'},\n",
      " {'URL': 'https://search.daum.net/nate?w=tot&DA=NAD&q=%ED%99%80%EC%9D%B8%EC%9B%90%ED%8C%A8',\n",
      "  '검색어': '홀인원패'},\n",
      " {'URL': 'https://search.daum.net/nate?w=tot&q=%EA%B9%80%EC%9D%98%EC%84%B1+%EA%B8%B0%EB%B6%80',\n",
      "  '검색어': '김의성 기부'},\n",
      " {'URL': 'https://search.daum.net/nate?w=tot&q=%EC%9E%90%EC%9A%B0%EB%A6%BC+%EA%B9%80%EC%9C%A4%EC%95%84+%EB%AA%85%ED%92%88+%EA%B8%B0%ED%83%80',\n",
      "  '검색어': '김윤아 고양이'}]\n"
     ]
    }
   ],
   "source": [
    "import requests\n",
    "import pprint\n",
    "from bs4 import BeautifulSoup\n",
    "\n",
    "print('네이트 인기 검색어')\n",
    "url = 'https://www.nate.com'\n",
    "response = requests.get(url)\n",
    "if response.status_code == 200:\n",
    "    dom = BeautifulSoup(response.text, 'html.parser')\n",
    "    \n",
    "    elements = dom.select('.search_keyword a')\n",
    "    print(len(elements)) # 5개 확인!\n",
    "\n",
    "    result = [\n",
    "        {\n",
    "            '검색어' : element.text.strip()\n",
    "            ,'URL' : element.attrs.get('href').strip()\n",
    "        }\n",
    "        for element in elements\n",
    "    ]\n",
    "    \n",
    "    pp = pprint.PrettyPrinter(depth=6)\n",
    "    pp.pprint(result)\n",
    "\n",
    "\n"
   ]
  },
  {
   "cell_type": "code",
   "execution_count": 4,
   "metadata": {},
   "outputs": [],
   "source": [
    "import pprint"
   ]
  },
  {
   "cell_type": "code",
   "execution_count": null,
   "metadata": {},
   "outputs": [],
   "source": []
  },
  {
   "cell_type": "code",
   "execution_count": null,
   "metadata": {},
   "outputs": [],
   "source": []
  },
  {
   "cell_type": "code",
   "execution_count": null,
   "metadata": {},
   "outputs": [],
   "source": []
  },
  {
   "cell_type": "code",
   "execution_count": null,
   "metadata": {},
   "outputs": [],
   "source": []
  },
  {
   "cell_type": "code",
   "execution_count": null,
   "metadata": {},
   "outputs": [],
   "source": []
  }
 ],
 "metadata": {
  "kernelspec": {
   "display_name": "Python 3",
   "language": "python",
   "name": "python3"
  },
  "language_info": {
   "codemirror_mode": {
    "name": "ipython",
    "version": 3
   },
   "file_extension": ".py",
   "mimetype": "text/x-python",
   "name": "python",
   "nbconvert_exporter": "python",
   "pygments_lexer": "ipython3",
   "version": "3.7.4"
  }
 },
 "nbformat": 4,
 "nbformat_minor": 2
}
