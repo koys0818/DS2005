{
 "cells": [
  {
   "cell_type": "markdown",
   "metadata": {},
   "source": [
    "# 경과 시간 측정"
   ]
  },
  {
   "cell_type": "code",
   "execution_count": 1,
   "metadata": {},
   "outputs": [],
   "source": [
    "import time\n",
    "from datetime import timedelta"
   ]
  },
  {
   "cell_type": "code",
   "execution_count": 8,
   "metadata": {},
   "outputs": [
    {
     "name": "stdout",
     "output_type": "stream",
     "text": [
      "0\n",
      "1\n",
      "2\n",
      "3\n",
      "4\n",
      "10.043130874633789 seconds\n"
     ]
    }
   ],
   "source": [
    "start_time = time.time()\n",
    "\n",
    "for i in range(5):\n",
    "    print(i)\n",
    "    time.sleep(2)\n",
    "\n",
    "end_time = time.time()\n",
    "elapsed_time = end_time - start_time  # 경과시간\n",
    "print(\"%s seconds\" % (elapsed_time))"
   ]
  },
  {
   "cell_type": "code",
   "execution_count": 10,
   "metadata": {},
   "outputs": [
    {
     "data": {
      "text/plain": [
       "'3:25:45'"
      ]
     },
     "execution_count": 10,
     "metadata": {},
     "output_type": "execute_result"
    }
   ],
   "source": [
    "str(timedelta(seconds = 12345))"
   ]
  },
  {
   "cell_type": "markdown",
   "metadata": {},
   "source": [
    "# list 의 append() vs insert()"
   ]
  },
  {
   "cell_type": "code",
   "execution_count": 27,
   "metadata": {},
   "outputs": [],
   "source": [
    "num = 40000"
   ]
  },
  {
   "cell_type": "code",
   "execution_count": 28,
   "metadata": {},
   "outputs": [
    {
     "name": "stdout",
     "output_type": "stream",
     "text": [
      "append() x 40000 경과시간 0:00:00.003000\n"
     ]
    }
   ],
   "source": [
    "start_time = time.time() \n",
    "\n",
    "data = []\n",
    "for i in range(1, num + 1):\n",
    "    data.append(i)\n",
    "\n",
    "end_time = time.time()\n",
    "elapsed_time = end_time - start_time  # 경과 시간       \n",
    "print('append() x %d 경과시간 %s' % (num, str(timedelta(seconds = elapsed_time))))"
   ]
  },
  {
   "cell_type": "code",
   "execution_count": 29,
   "metadata": {},
   "outputs": [
    {
     "name": "stdout",
     "output_type": "stream",
     "text": [
      "insert() x 40000 경과시간 0:00:00.378830\n"
     ]
    }
   ],
   "source": [
    "start_time = time.time() \n",
    "\n",
    "data = []\n",
    "for i in range(num, 0, -1):\n",
    "    data.insert(0, i)\n",
    "    \n",
    "end_time = time.time()\n",
    "elapsed_time = end_time - start_time  # 경과 시간       \n",
    "print('insert() x %d 경과시간 %s' % (num, str(timedelta(seconds = elapsed_time))))"
   ]
  },
  {
   "cell_type": "markdown",
   "metadata": {},
   "source": [
    "# 문자열 연결하기\n",
    "# str +   VS append()\n"
   ]
  },
  {
   "cell_type": "code",
   "execution_count": 37,
   "metadata": {},
   "outputs": [],
   "source": [
    "num = 5000000"
   ]
  },
  {
   "cell_type": "code",
   "execution_count": 38,
   "metadata": {},
   "outputs": [
    {
     "name": "stdout",
     "output_type": "stream",
     "text": [
      "str(+) x 5000000 경과시간 0:00:01.492450\n"
     ]
    }
   ],
   "source": [
    "start_time = time.time() \n",
    "\n",
    "data = \"\"\n",
    "for i in range(num):\n",
    "    data += 'a'\n",
    "    \n",
    "end_time = time.time()\n",
    "elapsed_time = end_time - start_time  # 경과 시간\n",
    "print('str(+) x %d 경과시간 %s' % (num, str(timedelta(seconds = elapsed_time))))"
   ]
  },
  {
   "cell_type": "code",
   "execution_count": 39,
   "metadata": {},
   "outputs": [
    {
     "name": "stdout",
     "output_type": "stream",
     "text": [
      "append() x 5000000 경과시간 0:00:00.472714\n"
     ]
    }
   ],
   "source": [
    "start_time = time.time() \n",
    "\n",
    "data = []\n",
    "for i in range(num):\n",
    "    data.append('a')\n",
    "data = ''.join(data)\n",
    "\n",
    "end_time = time.time()\n",
    "elapsed_time = end_time - start_time  # 경과 시간\n",
    "print('append() x %d 경과시간 %s' % (num, str(timedelta(seconds = elapsed_time))))\n"
   ]
  },
  {
   "cell_type": "code",
   "execution_count": null,
   "metadata": {},
   "outputs": [],
   "source": []
  },
  {
   "cell_type": "code",
   "execution_count": null,
   "metadata": {},
   "outputs": [],
   "source": []
  },
  {
   "cell_type": "code",
   "execution_count": null,
   "metadata": {},
   "outputs": [],
   "source": []
  },
  {
   "cell_type": "code",
   "execution_count": null,
   "metadata": {},
   "outputs": [],
   "source": []
  },
  {
   "cell_type": "code",
   "execution_count": null,
   "metadata": {},
   "outputs": [],
   "source": []
  }
 ],
 "metadata": {
  "kernelspec": {
   "display_name": "Python 3",
   "language": "python",
   "name": "python3"
  },
  "language_info": {
   "codemirror_mode": {
    "name": "ipython",
    "version": 3
   },
   "file_extension": ".py",
   "mimetype": "text/x-python",
   "name": "python",
   "nbconvert_exporter": "python",
   "pygments_lexer": "ipython3",
   "version": "3.7.4"
  }
 },
 "nbformat": 4,
 "nbformat_minor": 2
}
