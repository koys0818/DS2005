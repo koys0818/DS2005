{
 "cells": [
  {
   "cell_type": "markdown",
   "metadata": {},
   "source": [
    "# '정적' 인 사이트 웹크롤링"
   ]
  },
  {
   "cell_type": "code",
   "execution_count": 35,
   "metadata": {},
   "outputs": [],
   "source": [
    "# 가장 간단한 형태의 페이지\n",
    "# 고정된 내용을 크롤링 한다\n",
    "# 해당 URL 로 response 받는 텍스트를 크롤링 하는 것이다.\n",
    "#  페이지에서 '소스보기' 로 했을때 보이는 내용이 크롤링 대상이다."
   ]
  },
  {
   "cell_type": "markdown",
   "metadata": {},
   "source": [
    "## BeautifulSoup 사용하기"
   ]
  },
  {
   "cell_type": "code",
   "execution_count": 36,
   "metadata": {},
   "outputs": [],
   "source": [
    "# HTML 파일 읽어오기\n",
    "fp = open(\"data/sample.html\", \"r\", encoding=\"utf8\")\n",
    "html = fp.read()\n",
    "fp.close()"
   ]
  },
  {
   "cell_type": "code",
   "execution_count": 37,
   "metadata": {},
   "outputs": [
    {
     "data": {
      "text/plain": [
       "'<!DOCTYPE doctype html>\\n\\n<html lang=\"ko\">\\n<head>\\n<meta charset=\"utf-8\"/>\\n<style>\\n\\th1 { color: red; }\\n\\tp {color: green; }\\n\\t/* ul li {color: blue; } */\\n\\n\\t/* class  */\\n\\t.animal {color: blue; }\\n\\t.fruit {color: orange; }\\n\\n\\t/* id  */\\n\\t#cat {color:brown;}\\n    \\n    table, th, td {\\n        border : 1px solid black;\\n        border-collapse : collapse;\\n    }\\n</style>\\n</head>\\n<body>\\n    <h1>header</h1>\\n    <p>This is a paragraph</p>\\n    <div>이것은 <br> div 입니다</div>\\n    <ul>\\n        <li class=\"animal\">dog</li>\\n        <li class=\"animal\" id=\"cat\">cat</li>\\n        <li class=\"animal\">frog</li>\\n        <li class=\"animal\">this</li>\\n    </ul>\\n    <ul>\\n        <li class=\"fruit\">apple  </li>\\n        <li class=\"fruit\">ba<b>nana</b></li>\\n    </ul>\\n    <ol>\\n        <li><a href=\"https://www.naver.com\" title=\"최고포탈\">네이버</a></li>\\n        <li><a href=\"https://www.daum.net\">daum</a></li>\\n        <li class=\"animal\">fish</li>\\n    </ol>\\n    \\n    <hr>\\n    <table id=\"books\">\\n        <thead>\\n        <tr>\\n            <th>제목</th>\\n            <th>가격</th>\\n        </tr>  \\n        </thead>\\n        <tbody>\\n        <tr>\\n            <td>1.이것이 파이썬이다</td>\\n            <td><b>[도서]</b> 19,200원</td>\\n        </tr>    \\n        <tr>\\n            <td>2.저것도 파이썬이다</td>\\n            <td><b>[할인]</b> 12,800원</td>\\n        </tr>    \\n        <tr>\\n            <td>3.그래도 파이썬인가?</td>\\n            <td><b>[중고]</b> 6,500원</td>\\n        </tr>  \\n        </tbody>    \\n    </table>\\n    \\n</body>\\n</html>\\n\\n'"
      ]
     },
     "execution_count": 37,
     "metadata": {},
     "output_type": "execute_result"
    }
   ],
   "source": [
    "html"
   ]
  },
  {
   "cell_type": "code",
   "execution_count": 38,
   "metadata": {},
   "outputs": [],
   "source": [
    "from bs4 import BeautifulSoup\n",
    "# html, xml 등의 데이터를 파싱(parsing) 할수 있다.\n",
    "# 파싱?: 주어진 데이터 안에서 내가 원하는 데이터를 추출하는 것."
   ]
  },
  {
   "cell_type": "code",
   "execution_count": 39,
   "metadata": {},
   "outputs": [],
   "source": [
    "data = BeautifulSoup(html, \"html.parser\")  \n",
    "# 주어진 데이터 html 을 html 문서로 파싱하고\n",
    "# Document Object Model 객체 (DOM) 을 표현하는 BeautifulSoup 객체 생성"
   ]
  },
  {
   "cell_type": "code",
   "execution_count": 40,
   "metadata": {},
   "outputs": [
    {
     "data": {
      "text/plain": [
       "bs4.BeautifulSoup"
      ]
     },
     "execution_count": 40,
     "metadata": {},
     "output_type": "execute_result"
    }
   ],
   "source": [
    "type(data)"
   ]
  },
  {
   "cell_type": "code",
   "execution_count": 41,
   "metadata": {},
   "outputs": [
    {
     "data": {
      "text/plain": [
       "<!DOCTYPE doctype html>\n",
       "\n",
       "<html lang=\"ko\">\n",
       "<head>\n",
       "<meta charset=\"utf-8\"/>\n",
       "<style>\n",
       "\th1 { color: red; }\n",
       "\tp {color: green; }\n",
       "\t/* ul li {color: blue; } */\n",
       "\n",
       "\t/* class  */\n",
       "\t.animal {color: blue; }\n",
       "\t.fruit {color: orange; }\n",
       "\n",
       "\t/* id  */\n",
       "\t#cat {color:brown;}\n",
       "    \n",
       "    table, th, td {\n",
       "        border : 1px solid black;\n",
       "        border-collapse : collapse;\n",
       "    }\n",
       "</style>\n",
       "</head>\n",
       "<body>\n",
       "<h1>header</h1>\n",
       "<p>This is a paragraph</p>\n",
       "<div>이것은 <br/> div 입니다</div>\n",
       "<ul>\n",
       "<li class=\"animal\">dog</li>\n",
       "<li class=\"animal\" id=\"cat\">cat</li>\n",
       "<li class=\"animal\">frog</li>\n",
       "<li class=\"animal\">this</li>\n",
       "</ul>\n",
       "<ul>\n",
       "<li class=\"fruit\">apple  </li>\n",
       "<li class=\"fruit\">ba<b>nana</b></li>\n",
       "</ul>\n",
       "<ol>\n",
       "<li><a href=\"https://www.naver.com\" title=\"최고포탈\">네이버</a></li>\n",
       "<li><a href=\"https://www.daum.net\">daum</a></li>\n",
       "<li class=\"animal\">fish</li>\n",
       "</ol>\n",
       "<hr/>\n",
       "<table id=\"books\">\n",
       "<thead>\n",
       "<tr>\n",
       "<th>제목</th>\n",
       "<th>가격</th>\n",
       "</tr>\n",
       "</thead>\n",
       "<tbody>\n",
       "<tr>\n",
       "<td>1.이것이 파이썬이다</td>\n",
       "<td><b>[도서]</b> 19,200원</td>\n",
       "</tr>\n",
       "<tr>\n",
       "<td>2.저것도 파이썬이다</td>\n",
       "<td><b>[할인]</b> 12,800원</td>\n",
       "</tr>\n",
       "<tr>\n",
       "<td>3.그래도 파이썬인가?</td>\n",
       "<td><b>[중고]</b> 6,500원</td>\n",
       "</tr>\n",
       "</tbody>\n",
       "</table>\n",
       "</body>\n",
       "</html>"
      ]
     },
     "execution_count": 41,
     "metadata": {},
     "output_type": "execute_result"
    }
   ],
   "source": [
    "data"
   ]
  },
  {
   "cell_type": "markdown",
   "metadata": {},
   "source": [
    "### select(), select_one() 메소드"
   ]
  },
  {
   "cell_type": "code",
   "execution_count": 42,
   "metadata": {},
   "outputs": [
    {
     "data": {
      "text/plain": [
       "<h1>header</h1>"
      ]
     },
     "execution_count": 42,
     "metadata": {},
     "output_type": "execute_result"
    }
   ],
   "source": [
    "#data.select_one(CSS selector)\n",
    "# 해당 CSS selector 로 select 된 첫번째 element 하나를 리턴\n",
    "data.select_one(\"h1\")"
   ]
  },
  {
   "cell_type": "code",
   "execution_count": 43,
   "metadata": {},
   "outputs": [
    {
     "data": {
      "text/plain": [
       "bs4.element.Tag"
      ]
     },
     "execution_count": 43,
     "metadata": {},
     "output_type": "execute_result"
    }
   ],
   "source": [
    "type(data.select_one(\"h1\"))  # 결과는 element"
   ]
  },
  {
   "cell_type": "code",
   "execution_count": 44,
   "metadata": {},
   "outputs": [
    {
     "data": {
      "text/plain": [
       "[<li class=\"fruit\">apple  </li>, <li class=\"fruit\">ba<b>nana</b></li>]"
      ]
     },
     "execution_count": 44,
     "metadata": {},
     "output_type": "execute_result"
    }
   ],
   "source": [
    "data.select(\".fruit\")\n",
    "# 해당 CSS selector 로 select 된 모든 element(들)의 list 리턴\n",
    "# 심지어 한개도 select 되지 않아도 비어있는 list 리턴"
   ]
  },
  {
   "cell_type": "code",
   "execution_count": 45,
   "metadata": {},
   "outputs": [
    {
     "data": {
      "text/plain": [
       "2"
      ]
     },
     "execution_count": 45,
     "metadata": {},
     "output_type": "execute_result"
    }
   ],
   "source": [
    "# select() 결과 element 의 개수를 알고 싶으면?\n",
    "len(data.select(\".fruit\"))"
   ]
  },
  {
   "cell_type": "code",
   "execution_count": 46,
   "metadata": {},
   "outputs": [
    {
     "data": {
      "text/plain": [
       "<li class=\"fruit\">apple  </li>"
      ]
     },
     "execution_count": 46,
     "metadata": {},
     "output_type": "execute_result"
    }
   ],
   "source": [
    "data.select(\".fruit\")[0]   # 첫번째 element"
   ]
  },
  {
   "cell_type": "code",
   "execution_count": 47,
   "metadata": {},
   "outputs": [
    {
     "data": {
      "text/plain": [
       "<li class=\"fruit\">ba<b>nana</b></li>"
      ]
     },
     "execution_count": 47,
     "metadata": {},
     "output_type": "execute_result"
    }
   ],
   "source": [
    "data.select(\".fruit\")[1]"
   ]
  },
  {
   "cell_type": "code",
   "execution_count": 48,
   "metadata": {},
   "outputs": [
    {
     "data": {
      "text/plain": [
       "<li class=\"fruit\">apple  </li>"
      ]
     },
     "execution_count": 48,
     "metadata": {},
     "output_type": "execute_result"
    }
   ],
   "source": [
    "data.select_one(\".fruit\")"
   ]
  },
  {
   "cell_type": "markdown",
   "metadata": {},
   "source": [
    "### .text \n",
    "element 안의 text 데이터 추출"
   ]
  },
  {
   "cell_type": "code",
   "execution_count": 49,
   "metadata": {},
   "outputs": [],
   "source": [
    "# element 의 .text : 태그는 제거된 형태"
   ]
  },
  {
   "cell_type": "code",
   "execution_count": 50,
   "metadata": {},
   "outputs": [
    {
     "data": {
      "text/plain": [
       "'apple'"
      ]
     },
     "execution_count": 50,
     "metadata": {},
     "output_type": "execute_result"
    }
   ],
   "source": [
    "data.select('.fruit')[0].text.strip()   # strip() str 에서 좌우 여백 제거"
   ]
  },
  {
   "cell_type": "code",
   "execution_count": 51,
   "metadata": {},
   "outputs": [
    {
     "data": {
      "text/plain": [
       "'banana'"
      ]
     },
     "execution_count": 51,
     "metadata": {},
     "output_type": "execute_result"
    }
   ],
   "source": [
    "data.select('.fruit')[1].text.strip()  # 태그는 제거된 형태의 text 가 나온다"
   ]
  },
  {
   "cell_type": "code",
   "execution_count": 52,
   "metadata": {},
   "outputs": [
    {
     "data": {
      "text/plain": [
       "['apple', 'banana']"
      ]
     },
     "execution_count": 52,
     "metadata": {},
     "output_type": "execute_result"
    }
   ],
   "source": [
    "# 도전!!\n",
    "#[\"apple\", \"banana\"] 이렇게 결과가 나오도록 결과를 만들자\n",
    "# for 사용\n",
    "\n",
    "result = []\n",
    "for element in data.select(\".fruit\"):\n",
    "    result.append(element.text.strip())\n",
    "\n",
    "result"
   ]
  },
  {
   "cell_type": "code",
   "execution_count": 53,
   "metadata": {},
   "outputs": [
    {
     "data": {
      "text/plain": [
       "['apple', 'banana']"
      ]
     },
     "execution_count": 53,
     "metadata": {},
     "output_type": "execute_result"
    }
   ],
   "source": [
    "# list comprehension\n",
    "[element.text.strip()  for element in data.select('.fruit')]"
   ]
  },
  {
   "cell_type": "code",
   "execution_count": 54,
   "metadata": {},
   "outputs": [
    {
     "data": {
      "text/plain": [
       "['apple', 'banana']"
      ]
     },
     "execution_count": 54,
     "metadata": {},
     "output_type": "execute_result"
    }
   ],
   "source": [
    "[\n",
    "    element.text.strip()  \n",
    "    for element \n",
    "    in data.select('.fruit')\n",
    "]"
   ]
  },
  {
   "cell_type": "code",
   "execution_count": 56,
   "metadata": {},
   "outputs": [
    {
     "data": {
      "text/plain": [
       "['dog', 'cat', 'frog', 'this']"
      ]
     },
     "execution_count": 56,
     "metadata": {},
     "output_type": "execute_result"
    }
   ],
   "source": [
    "# 연습: 도전!\n",
    "# animals 에 대한 리스트도 뽑아보세요\n",
    "# 결과 --> ['dog', 'cat', 'frog', 'this']\n",
    "\n",
    "[\n",
    "    element.text.strip()\n",
    "    for element in data.select(\"ul .animal\")\n",
    "]"
   ]
  },
  {
   "cell_type": "markdown",
   "metadata": {},
   "source": [
    "### .attrs\n",
    "attribute 값 가져오기"
   ]
  },
  {
   "cell_type": "code",
   "execution_count": 57,
   "metadata": {},
   "outputs": [],
   "source": [
    "# 아래 링크 '주소'와  '링크이름' 을 dict 의 list 형태로 가져오기 \n",
    "\n",
    "# <ol>\n",
    "#   <li><a href=\"http://www.naver.com\">네이버</a></li>\n",
    "#   <li><a href=\"hrrp://www.daum.net\">daum</a></li>\n",
    "# </ol>\n",
    "\n",
    "\n",
    "# 결과예)\n",
    "\n",
    "# [\n",
    "#     {\n",
    "#         url: \"http://www.naver.com\",\n",
    "#         link: \"네이버\"\n",
    "#     },\n",
    "#     {\n",
    "#         url: \"http://www.daum.net\",\n",
    "#         link: \"daum\"\n",
    "#     },\n",
    "# ]\n"
   ]
  },
  {
   "cell_type": "code",
   "execution_count": 59,
   "metadata": {},
   "outputs": [
    {
     "data": {
      "text/plain": [
       "[<a href=\"https://www.naver.com\" title=\"최고포탈\">네이버</a>,\n",
       " <a href=\"https://www.daum.net\">daum</a>]"
      ]
     },
     "execution_count": 59,
     "metadata": {},
     "output_type": "execute_result"
    }
   ],
   "source": [
    "items = data.select(\"ol li > a\")\n",
    "items"
   ]
  },
  {
   "cell_type": "code",
   "execution_count": 63,
   "metadata": {},
   "outputs": [
    {
     "data": {
      "text/plain": [
       "{'href': 'https://www.naver.com', 'title': '최고포탈'}"
      ]
     },
     "execution_count": 63,
     "metadata": {},
     "output_type": "execute_result"
    }
   ],
   "source": [
    "items[0].attrs  # .attrs 는 dict 형태로 나옴"
   ]
  },
  {
   "cell_type": "code",
   "execution_count": 64,
   "metadata": {},
   "outputs": [
    {
     "data": {
      "text/plain": [
       "'https://www.naver.com'"
      ]
     },
     "execution_count": 64,
     "metadata": {},
     "output_type": "execute_result"
    }
   ],
   "source": [
    "items[0].attrs['href']"
   ]
  },
  {
   "cell_type": "code",
   "execution_count": 65,
   "metadata": {},
   "outputs": [
    {
     "data": {
      "text/plain": [
       "'최고포탈'"
      ]
     },
     "execution_count": 65,
     "metadata": {},
     "output_type": "execute_result"
    }
   ],
   "source": [
    "items[0].attrs['title']"
   ]
  },
  {
   "cell_type": "code",
   "execution_count": 66,
   "metadata": {},
   "outputs": [
    {
     "data": {
      "text/plain": [
       "'https://www.naver.com'"
      ]
     },
     "execution_count": 66,
     "metadata": {},
     "output_type": "execute_result"
    }
   ],
   "source": [
    "items[0].get('href')"
   ]
  },
  {
   "cell_type": "code",
   "execution_count": 68,
   "metadata": {},
   "outputs": [
    {
     "data": {
      "text/plain": [
       "[{'url': 'https://www.naver.com', 'link': '네이버'},\n",
       " {'url': 'https://www.daum.net', 'link': 'daum'}]"
      ]
     },
     "execution_count": 68,
     "metadata": {},
     "output_type": "execute_result"
    }
   ],
   "source": [
    "# 최종결과\n",
    "[\n",
    "    {\n",
    "        \"url\" : item.attrs.get('href').strip(),\n",
    "        \"link\" : item.text.strip()\n",
    "    }\n",
    "    for item in data.select(\"ol li > a\")\n",
    "]"
   ]
  },
  {
   "cell_type": "code",
   "execution_count": null,
   "metadata": {},
   "outputs": [],
   "source": []
  },
  {
   "cell_type": "markdown",
   "metadata": {},
   "source": [
    "### element 를 제거하려면 ?  --> decompose()"
   ]
  },
  {
   "cell_type": "code",
   "execution_count": 69,
   "metadata": {},
   "outputs": [],
   "source": [
    "# dict-comprehension 을 사용하여 만들어보자\n",
    "\"\"\"\n",
    "<결과 예시>\n",
    "[{'제목': '이것이 파이썬이다', '가격': '[도서] 19,200원'},\n",
    " {'제목': '저것도 파이썬이다', '가격': '[할인] 12,800원'},\n",
    " {'제목': '그래도 파이썬인가?', '가격': '[중고] 6,500원'}]\n",
    "\"\"\"\n",
    "None"
   ]
  },
  {
   "cell_type": "code",
   "execution_count": 71,
   "metadata": {},
   "outputs": [
    {
     "data": {
      "text/plain": [
       "[<tr>\n",
       " <th>제목</th>\n",
       " <th>가격</th>\n",
       " </tr>, <tr>\n",
       " <td>1.이것이 파이썬이다</td>\n",
       " <td><b>[도서]</b> 19,200원</td>\n",
       " </tr>, <tr>\n",
       " <td>2.저것도 파이썬이다</td>\n",
       " <td><b>[할인]</b> 12,800원</td>\n",
       " </tr>, <tr>\n",
       " <td>3.그래도 파이썬인가?</td>\n",
       " <td><b>[중고]</b> 6,500원</td>\n",
       " </tr>]"
      ]
     },
     "execution_count": 71,
     "metadata": {},
     "output_type": "execute_result"
    }
   ],
   "source": [
    "data.select_one(\"#books\").select(\"tr\")"
   ]
  },
  {
   "cell_type": "code",
   "execution_count": 72,
   "metadata": {},
   "outputs": [
    {
     "data": {
      "text/plain": [
       "[{'제목': '1.이것이 파이썬이다', '가격': '[도서] 19,200원'},\n",
       " {'제목': '2.저것도 파이썬이다', '가격': '[할인] 12,800원'},\n",
       " {'제목': '3.그래도 파이썬인가?', '가격': '[중고] 6,500원'}]"
      ]
     },
     "execution_count": 72,
     "metadata": {},
     "output_type": "execute_result"
    }
   ],
   "source": [
    "[\n",
    "    {\n",
    "        \"제목\" : element.select_one(\"td:first-child\").text.strip(),\n",
    "        \"가격\" : element.select_one(\"td:nth-child(2)\").text.strip()\n",
    "    }\n",
    "    for element in data.select_one(\"#books\").select(\"tr\")\n",
    "    if element.select_one('td')    # select(), select_one() 은 select 된게 없으면 None 리턴 \n",
    "]"
   ]
  },
  {
   "cell_type": "code",
   "execution_count": 73,
   "metadata": {},
   "outputs": [],
   "source": [
    "# 가격 앞의 [도서], [할인].. 제거하려면?\n",
    "# <td><b>[중고]</b> 6,500원</td>        \n",
    "\n",
    "# <td> element  안의 <b> element 를 제거하고 싶다.\n",
    "\n",
    "# element 의 decompose () 사용"
   ]
  },
  {
   "cell_type": "code",
   "execution_count": 80,
   "metadata": {},
   "outputs": [
    {
     "name": "stdout",
     "output_type": "stream",
     "text": [
      "decompose() 전 <td><b>[도서]</b> 19,200원</td>\n",
      "decompose() 후 <td> 19,200원</td>\n",
      "decompose() 전 <td><b>[할인]</b> 12,800원</td>\n",
      "decompose() 후 <td> 12,800원</td>\n",
      "decompose() 전 <td><b>[중고]</b> 6,500원</td>\n",
      "decompose() 후 <td> 6,500원</td>\n"
     ]
    },
    {
     "data": {
      "text/plain": [
       "[{'제목': '1.이것이 파이썬이다', '가격': '19,200원'},\n",
       " {'제목': '2.저것도 파이썬이다', '가격': '12,800원'},\n",
       " {'제목': '3.그래도 파이썬인가?', '가격': '6,500원'}]"
      ]
     },
     "execution_count": 80,
     "metadata": {},
     "output_type": "execute_result"
    }
   ],
   "source": [
    "data = BeautifulSoup(html, 'html.parser')\n",
    "row_elements = data.select_one(\"#books\").select(\"tr\")\n",
    "\n",
    "result = []\n",
    "for row in row_elements:\n",
    "    if row.select_one(\"td\"):\n",
    "        price_element = row.select_one(\"td:nth-child(2)\")\n",
    "        print(\"decompose() 전\", price_element)\n",
    "        price_element.select_one('b').decompose()  # <b> element 삭제 됨.\n",
    "        print(\"decompose() 후\", price_element)\n",
    "        \n",
    "        item = {\n",
    "            \"제목\" : row.select_one(\"td:first-child\").text.strip(),\n",
    "            \"가격\" : price_element.text.strip()\n",
    "        }\n",
    "        result.append(item)\n",
    "\n",
    "result\n",
    "        "
   ]
  },
  {
   "cell_type": "markdown",
   "metadata": {},
   "source": [
    "### 가격을 숫자 타입으로 파싱하려면\n",
    "'19,200원'  --> 19000  숫자타입"
   ]
  },
  {
   "cell_type": "code",
   "execution_count": 81,
   "metadata": {},
   "outputs": [],
   "source": [
    "myStr = '1,232,200원'"
   ]
  },
  {
   "cell_type": "code",
   "execution_count": 82,
   "metadata": {},
   "outputs": [],
   "source": [
    "myStr = myStr.replace(',', '')  # 중간의 콤마 제거"
   ]
  },
  {
   "cell_type": "code",
   "execution_count": 83,
   "metadata": {},
   "outputs": [
    {
     "data": {
      "text/plain": [
       "'1232200원'"
      ]
     },
     "execution_count": 83,
     "metadata": {},
     "output_type": "execute_result"
    }
   ],
   "source": [
    "myStr"
   ]
  },
  {
   "cell_type": "code",
   "execution_count": 84,
   "metadata": {},
   "outputs": [
    {
     "data": {
      "text/plain": [
       "'1232200'"
      ]
     },
     "execution_count": 84,
     "metadata": {},
     "output_type": "execute_result"
    }
   ],
   "source": [
    "myStr = myStr[:-1]  # 끝의 한글자 제거\n",
    "myStr"
   ]
  },
  {
   "cell_type": "code",
   "execution_count": 85,
   "metadata": {},
   "outputs": [
    {
     "data": {
      "text/plain": [
       "1232200.0"
      ]
     },
     "execution_count": 85,
     "metadata": {},
     "output_type": "execute_result"
    }
   ],
   "source": [
    "num = float(myStr)\n",
    "num"
   ]
  },
  {
   "cell_type": "code",
   "execution_count": 86,
   "metadata": {},
   "outputs": [
    {
     "name": "stdout",
     "output_type": "stream",
     "text": [
      "decompose() 전 <td><b>[도서]</b> 19,200원</td>\n",
      "decompose() 후 <td> 19,200원</td>\n",
      "decompose() 전 <td><b>[할인]</b> 12,800원</td>\n",
      "decompose() 후 <td> 12,800원</td>\n",
      "decompose() 전 <td><b>[중고]</b> 6,500원</td>\n",
      "decompose() 후 <td> 6,500원</td>\n"
     ]
    },
    {
     "data": {
      "text/plain": [
       "[{'제목': '1.이것이 파이썬이다', '가격': 19200.0},\n",
       " {'제목': '2.저것도 파이썬이다', '가격': 12800.0},\n",
       " {'제목': '3.그래도 파이썬인가?', '가격': 6500.0}]"
      ]
     },
     "execution_count": 86,
     "metadata": {},
     "output_type": "execute_result"
    }
   ],
   "source": [
    "data = BeautifulSoup(html, 'html.parser')\n",
    "row_elements = data.select_one(\"#books\").select(\"tr\")\n",
    "\n",
    "result = []\n",
    "for row in row_elements:\n",
    "    if row.select_one(\"td\"):\n",
    "        price_element = row.select_one(\"td:nth-child(2)\")\n",
    "        print(\"decompose() 전\", price_element)\n",
    "        price_element.select_one('b').decompose()  # <b> element 삭제 됨.\n",
    "        print(\"decompose() 후\", price_element)\n",
    "        \n",
    "        item = {\n",
    "            \"제목\" : row.select_one(\"td:first-child\").text.strip(),\n",
    "            \"가격\" : float(price_element.text.strip().replace(',', '')[:-1])\n",
    "        }\n",
    "        result.append(item)\n",
    "\n",
    "result"
   ]
  },
  {
   "cell_type": "code",
   "execution_count": null,
   "metadata": {},
   "outputs": [],
   "source": []
  },
  {
   "cell_type": "code",
   "execution_count": null,
   "metadata": {},
   "outputs": [],
   "source": []
  },
  {
   "cell_type": "code",
   "execution_count": null,
   "metadata": {},
   "outputs": [],
   "source": []
  }
 ],
 "metadata": {
  "kernelspec": {
   "display_name": "Python 3",
   "language": "python",
   "name": "python3"
  },
  "language_info": {
   "codemirror_mode": {
    "name": "ipython",
    "version": 3
   },
   "file_extension": ".py",
   "mimetype": "text/x-python",
   "name": "python",
   "nbconvert_exporter": "python",
   "pygments_lexer": "ipython3",
   "version": "3.7.4"
  }
 },
 "nbformat": 4,
 "nbformat_minor": 2
}
