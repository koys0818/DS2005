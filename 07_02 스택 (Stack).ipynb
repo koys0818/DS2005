{
 "cells": [
  {
   "cell_type": "markdown",
   "metadata": {},
   "source": [
    "# 스택 (Stack)"
   ]
  },
  {
   "cell_type": "markdown",
   "metadata": {},
   "source": [
    "1. 스택은 '끝' 에서만 데이터에 접근하는 구조\n",
    "2. `LIFO` 구조 (Last-In  Fitst-Out, 후입선출) 구조,  가장 나중에 들어온 데이터가 가장 먼저 나간다\n",
    "    - `FILO` (Fisrt-In Last-Out) 이기도 하다\n"
   ]
  },
  {
   "cell_type": "markdown",
   "metadata": {},
   "source": [
    "<img src=\"https://wayhome25.github.io/assets/post-img/cs/stack.jpg\">"
   ]
  },
  {
   "cell_type": "markdown",
   "metadata": {},
   "source": [
    "## 일상생활에서 스택\n",
    "![스택](https://qph.fs.quoracdn.net/main-qimg-abf0634496b7412bef7f857f9457b003.webp)\n",
    "![스택](https://lifeindatastructures.files.wordpress.com/2017/10/22.jpg?w=610&h=&crop=1&zoom=2)\n"
   ]
  },
  {
   "cell_type": "markdown",
   "metadata": {},
   "source": [
    "## statck 의 ADT (추상 데이터 타입) \n",
    "스택의 동작들\n",
    "\n",
    "- `push` : 스택 맨 끝 (맨 위) 에 데이터 삽입\n",
    "- `pop` : 스택 맨 끝(맨 위)의 데이터 추출 하여 리턴 (스택에서 제거됨)\n",
    "- `peek/top` : 스택 맨 끝 (맨 위)의 데이터 조회 (스택에서 제거하진 않는다)\n",
    "- `empty` : 스택이 비어있는지 확인\n",
    "- `size` : 스택의 크기 (데이터 개수) 확인\n",
    "\n",
    "> '데이터(data)' 와 '아이템(item)' 이 혼용될겁니다"
   ]
  },
  {
   "cell_type": "markdown",
   "metadata": {},
   "source": [
    "# 스택구현1 , list 사용\n",
    "append(), pop() 활용"
   ]
  },
  {
   "cell_type": "markdown",
   "metadata": {},
   "source": [
    "# 스택구현2, Node 사용"
   ]
  },
  {
   "cell_type": "code",
   "execution_count": 1,
   "metadata": {},
   "outputs": [],
   "source": [
    "class Node(object):\n",
    "    def __init__(self, value=None, pointer=None):\n",
    "        self.value = value\n",
    "        self.pointer = pointer"
   ]
  },
  {
   "cell_type": "code",
   "execution_count": 2,
   "metadata": {},
   "outputs": [],
   "source": [
    "class Stack(object):\n",
    "    def __init__(self):\n",
    "        self.top = None # 스택 맨 위 (맨 마지막에 push 된 데이터)\n",
    "        self.size = 0   # 스택의 데이터 개수 \n",
    "    \n",
    "    def isEmpty(self):  # 스택이 비어있는지 확인, 비어있으면 True 리턴\n",
    "        return not bool(self.top)\n",
    "    \n",
    "    def push(self, item):\n",
    "        self.top = Node(item, self.top)  # 새로운 Node 생성, top 이동\n",
    "        self.size += 1  # 데이터 개수 +1 증가\n",
    "        \n",
    "    def pop(self):  # top 의 데이터 꺼내어 리턴  (스택에서 제거됨)\n",
    "        if self.size > 0 and self.top:\n",
    "            node = self.top\n",
    "            \n",
    "            self.top = node.pointer  # top 을 다음 노드로 이동.\n",
    "            self.size -= 1  # 데이터 개수 -1 감소\n",
    "            \n",
    "            return node.value\n",
    "        else:\n",
    "            print(\"스택이 비어있습니다\")\n",
    "            return None\n",
    "            \n",
    "    def peek(self):  # top 의 데이터 리턴 (스택에서 제거 안됨)\n",
    "        if self.size > 0 and self.top:\n",
    "            return self.top.value\n",
    "        else:\n",
    "            print(\"스택이 비어있습니다\")\n",
    "            return None\n",
    "            \n",
    "    def _printList(self):\n",
    "        node = self.top\n",
    "        while node:\n",
    "            print(node.value, end=\" \")\n",
    "            node = node.pointer\n",
    "        print()\n",
    "    \n",
    "        "
   ]
  },
  {
   "cell_type": "code",
   "execution_count": 17,
   "metadata": {},
   "outputs": [
    {
     "name": "stdout",
     "output_type": "stream",
     "text": [
      "스택이 비어있나? True\n",
      "9 8 7 6 5 4 3 2 1 0 \n",
      "스택의 크기 10\n",
      "peek() 9\n",
      "pop() 9\n",
      "8 7 6 5 4 3 2 1 0 \n",
      "pop() 8\n",
      "pop() 7\n",
      "pop() 6\n",
      "pop() 5\n",
      "pop() 4\n",
      "pop() 3\n",
      "pop() 2\n",
      "pop() 1\n",
      "스택의 크기 0\n"
     ]
    }
   ],
   "source": [
    "stack = Stack()\n",
    "print('스택이 비어있나?', stack.isEmpty())\n",
    "for i in range(10):\n",
    "    stack.push(i)\n",
    "stack._printList()\n",
    "print('스택의 크기', stack.size)\n",
    "print('peek()', stack.peek())\n",
    "print('pop()', stack.pop())\n",
    "stack._printList()\n",
    "\n",
    "while True: \n",
    "    data = stack.pop()\n",
    "    if not data: break;\n",
    "    print('pop()', data)\n",
    "\n",
    "print('스택의 크기', stack.size)"
   ]
  },
  {
   "cell_type": "code",
   "execution_count": null,
   "metadata": {},
   "outputs": [],
   "source": []
  },
  {
   "cell_type": "code",
   "execution_count": null,
   "metadata": {},
   "outputs": [],
   "source": []
  },
  {
   "cell_type": "code",
   "execution_count": null,
   "metadata": {},
   "outputs": [],
   "source": []
  },
  {
   "cell_type": "code",
   "execution_count": null,
   "metadata": {},
   "outputs": [],
   "source": []
  },
  {
   "cell_type": "code",
   "execution_count": null,
   "metadata": {},
   "outputs": [],
   "source": []
  },
  {
   "cell_type": "code",
   "execution_count": null,
   "metadata": {},
   "outputs": [],
   "source": []
  },
  {
   "cell_type": "code",
   "execution_count": null,
   "metadata": {},
   "outputs": [],
   "source": []
  },
  {
   "cell_type": "code",
   "execution_count": null,
   "metadata": {},
   "outputs": [],
   "source": []
  },
  {
   "cell_type": "code",
   "execution_count": null,
   "metadata": {},
   "outputs": [],
   "source": []
  },
  {
   "cell_type": "code",
   "execution_count": null,
   "metadata": {},
   "outputs": [],
   "source": []
  },
  {
   "cell_type": "code",
   "execution_count": null,
   "metadata": {},
   "outputs": [],
   "source": []
  },
  {
   "cell_type": "code",
   "execution_count": null,
   "metadata": {},
   "outputs": [],
   "source": []
  },
  {
   "cell_type": "code",
   "execution_count": null,
   "metadata": {},
   "outputs": [],
   "source": []
  },
  {
   "cell_type": "code",
   "execution_count": null,
   "metadata": {},
   "outputs": [],
   "source": []
  },
  {
   "cell_type": "code",
   "execution_count": null,
   "metadata": {},
   "outputs": [],
   "source": []
  },
  {
   "cell_type": "code",
   "execution_count": null,
   "metadata": {},
   "outputs": [],
   "source": []
  },
  {
   "cell_type": "code",
   "execution_count": null,
   "metadata": {},
   "outputs": [],
   "source": []
  }
 ],
 "metadata": {
  "kernelspec": {
   "display_name": "Python 3",
   "language": "python",
   "name": "python3"
  },
  "language_info": {
   "codemirror_mode": {
    "name": "ipython",
    "version": 3
   },
   "file_extension": ".py",
   "mimetype": "text/x-python",
   "name": "python",
   "nbconvert_exporter": "python",
   "pygments_lexer": "ipython3",
   "version": "3.7.4"
  }
 },
 "nbformat": 4,
 "nbformat_minor": 2
}
