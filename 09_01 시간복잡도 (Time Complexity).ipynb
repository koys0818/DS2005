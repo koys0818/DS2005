{
 "cells": [
  {
   "cell_type": "code",
   "execution_count": 2,
   "metadata": {},
   "outputs": [],
   "source": [
    "# 성능 --> '시간(Time Complexity)', '메모리 차지 용량(Space complexity)'\n",
    "# 자료구조 (Data Structure) + 알고리즘(Algorithm)"
   ]
  },
  {
   "cell_type": "markdown",
   "metadata": {},
   "source": [
    "## 입력하는 데이터의 개수(n) 이 무한에 접근하면 무슨 일이 일어날까?"
   ]
  },
  {
   "cell_type": "code",
   "execution_count": 3,
   "metadata": {},
   "outputs": [],
   "source": [
    "import time\n",
    "from datetime import timedelta"
   ]
  },
  {
   "cell_type": "code",
   "execution_count": 4,
   "metadata": {},
   "outputs": [],
   "source": [
    "def func1(n):\n",
    "    total = 0\n",
    "    for i in range(n):\n",
    "        total += 1\n",
    "    return total"
   ]
  },
  {
   "cell_type": "code",
   "execution_count": 13,
   "metadata": {},
   "outputs": [],
   "source": [
    "# func 의 수행시간 체크\n",
    "def check_time(func, num, title=''):\n",
    "    start_time = time.time()\n",
    "    func(num)\n",
    "    end_time = time.time()\n",
    "    elapsed_time = end_time - start_time # 경과시간\n",
    "    print('%s: n = %d 경과시간 %s' % (title, num, str(timedelta(seconds = elapsed_time))))"
   ]
  },
  {
   "cell_type": "code",
   "execution_count": 37,
   "metadata": {},
   "outputs": [
    {
     "name": "stdout",
     "output_type": "stream",
     "text": [
      "func1: n = 1000000 경과시간 0:00:00.040918\n"
     ]
    }
   ],
   "source": [
    "check_time(func1, 1000000, 'func1')"
   ]
  },
  {
   "cell_type": "code",
   "execution_count": 39,
   "metadata": {},
   "outputs": [
    {
     "name": "stdout",
     "output_type": "stream",
     "text": [
      "func1: n = 1000000 경과시간 0:00:00.038334\n",
      "func1: n = 2000000 경과시간 0:00:00.060897\n",
      "func1: n = 4000000 경과시간 0:00:00.144844\n",
      "func1: n = 8000000 경과시간 0:00:00.299478\n"
     ]
    }
   ],
   "source": [
    "size = 1000000\n",
    "for i in range(4):\n",
    "    check_time(func1, size, 'func1')\n",
    "    size *= 2"
   ]
  },
  {
   "cell_type": "markdown",
   "metadata": {},
   "source": [
    "# Big-O 표기법"
   ]
  },
  {
   "cell_type": "markdown",
   "metadata": {},
   "source": [
    "입력되는 데이터 n 에 정비례해서 시간복잡도 증가\n",
    "- O(n)"
   ]
  },
  {
   "cell_type": "code",
   "execution_count": 40,
   "metadata": {},
   "outputs": [],
   "source": [
    "def func2(n):\n",
    "    total = 0\n",
    "    for i in range(n):\n",
    "        for j in range(n):\n",
    "            total += 1\n",
    "    return total\n",
    "    "
   ]
  },
  {
   "cell_type": "code",
   "execution_count": 42,
   "metadata": {},
   "outputs": [
    {
     "name": "stdout",
     "output_type": "stream",
     "text": [
      "func2: n = 1000 경과시간 0:00:00.041226\n",
      "func2: n = 2000 경과시간 0:00:00.132047\n",
      "func2: n = 4000 경과시간 0:00:00.583556\n",
      "func2: n = 8000 경과시간 0:00:02.308003\n"
     ]
    }
   ],
   "source": [
    "size = 1000\n",
    "for i in range(4):\n",
    "    check_time(func2, size, 'func2')\n",
    "    size *= 2"
   ]
  },
  {
   "cell_type": "markdown",
   "metadata": {},
   "source": [
    "입력되는 데이터 n의 제곱 (n<sup>2</sup>) 에 비례해서 시간복잡도 증가\n",
    "- O(n<sup>2</sup>)"
   ]
  },
  {
   "cell_type": "code",
   "execution_count": 43,
   "metadata": {},
   "outputs": [],
   "source": [
    "def func3(n):\n",
    "    total = 0\n",
    "    for i in range(n):\n",
    "        for j in range(n):\n",
    "            for k in range(n):\n",
    "                total += 1\n",
    "    return total"
   ]
  },
  {
   "cell_type": "code",
   "execution_count": 44,
   "metadata": {},
   "outputs": [
    {
     "name": "stdout",
     "output_type": "stream",
     "text": [
      "func3: n = 100 경과시간 0:00:00.032912\n",
      "func3: n = 200 경과시간 0:00:00.240040\n",
      "func3: n = 400 경과시간 0:00:01.998966\n",
      "func3: n = 800 경과시간 0:00:16.870103\n"
     ]
    }
   ],
   "source": [
    "size = 100\n",
    "for i in range(4):\n",
    "    check_time(func3, size, 'func3')\n",
    "    size *= 2"
   ]
  },
  {
   "cell_type": "markdown",
   "metadata": {},
   "source": [
    "입력되는 데이터 n의 3제곱 (n<sup>3</sup>) 에 비례해서 시간복잡도 증가\n",
    "- O(n<sup>3</sup>)"
   ]
  },
  {
   "cell_type": "markdown",
   "metadata": {},
   "source": [
    "---\n",
    "![big o](https://miro.medium.com/max/1400/1*jiVqYhDzvODfVq6RH0DB1g.png)\n",
    "- x 축은 '입력 데이터 량'\n",
    "- y 축은 '소요시간'"
   ]
  },
  {
   "cell_type": "markdown",
   "metadata": {},
   "source": [
    "---\n",
    "### 시간복잡도 비교\n",
    "![비교](https://miro.medium.com/max/1112/0*_pZdQCZ2LGo9gPy9)\n",
    "오른쪽으로 갈수록 효율이 않좋다"
   ]
  },
  {
   "cell_type": "code",
   "execution_count": null,
   "metadata": {},
   "outputs": [],
   "source": []
  },
  {
   "cell_type": "code",
   "execution_count": null,
   "metadata": {},
   "outputs": [],
   "source": []
  },
  {
   "cell_type": "code",
   "execution_count": null,
   "metadata": {},
   "outputs": [],
   "source": []
  },
  {
   "cell_type": "code",
   "execution_count": null,
   "metadata": {},
   "outputs": [],
   "source": []
  },
  {
   "cell_type": "code",
   "execution_count": null,
   "metadata": {},
   "outputs": [],
   "source": []
  },
  {
   "cell_type": "code",
   "execution_count": null,
   "metadata": {},
   "outputs": [],
   "source": []
  },
  {
   "cell_type": "code",
   "execution_count": null,
   "metadata": {},
   "outputs": [],
   "source": []
  },
  {
   "cell_type": "code",
   "execution_count": null,
   "metadata": {},
   "outputs": [],
   "source": []
  }
 ],
 "metadata": {
  "kernelspec": {
   "display_name": "Python 3",
   "language": "python",
   "name": "python3"
  },
  "language_info": {
   "codemirror_mode": {
    "name": "ipython",
    "version": 3
   },
   "file_extension": ".py",
   "mimetype": "text/x-python",
   "name": "python",
   "nbconvert_exporter": "python",
   "pygments_lexer": "ipython3",
   "version": "3.7.4"
  }
 },
 "nbformat": 4,
 "nbformat_minor": 2
}
